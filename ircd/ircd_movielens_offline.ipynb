{
 "cells": [
  {
   "cell_type": "markdown",
   "metadata": {},
   "source": [
    "## Ref"
   ]
  },
  {
   "cell_type": "markdown",
   "metadata": {},
   "source": [
    "+ Dynamic Matrix Factorization with Priors on Unknown Values\n",
    "+ https://arxiv.org/pdf/1507.06452.pdf"
   ]
  },
  {
   "cell_type": "markdown",
   "metadata": {},
   "source": [
    "### imports"
   ]
  },
  {
   "cell_type": "code",
   "execution_count": 1,
   "metadata": {},
   "outputs": [],
   "source": [
    "import numpy as np\n",
    "import csv\n",
    "import random\n",
    "import time\n",
    "import copy\n",
    "import pickle"
   ]
  },
  {
   "cell_type": "markdown",
   "metadata": {},
   "source": [
    "### Load data"
   ]
  },
  {
   "cell_type": "code",
   "execution_count": 2,
   "metadata": {},
   "outputs": [],
   "source": [
    "train = []\n",
    "update = []\n",
    "test = []\n",
    "\n",
    "with open(\"movielens_offline_train.csv\", newline = \"\") as f:\n",
    "    rows = csv.reader(f)\n",
    "    for row in rows:\n",
    "        train.append(row)\n",
    "        \n",
    "with open(\"movielens_offline_test.csv\", newline = \"\") as f:\n",
    "    rows = csv.reader(f)\n",
    "    for row in rows:\n",
    "        test.append(row)"
   ]
  },
  {
   "cell_type": "code",
   "execution_count": 3,
   "metadata": {},
   "outputs": [
    {
     "data": {
      "text/plain": [
       "[['429', '22', '4.0', '828124615'],\n",
       " ['429', '150', '5.0', '828124615'],\n",
       " ['429', '161', '5.0', '828124615'],\n",
       " ['429', '165', '4.0', '828124615'],\n",
       " ['429', '218', '4.0', '828124615']]"
      ]
     },
     "execution_count": 3,
     "metadata": {},
     "output_type": "execute_result"
    }
   ],
   "source": [
    "train[:5]"
   ]
  },
  {
   "cell_type": "code",
   "execution_count": 4,
   "metadata": {},
   "outputs": [
    {
     "data": {
      "text/plain": [
       "[['429', '164', '3.0', '828124762'],\n",
       " ['191', '673', '5.0', '829760898'],\n",
       " ['99', '555', '4.0', '829828007'],\n",
       " ['35', '252', '4.0', '830940246'],\n",
       " ['468', '432', '2.0', '831400545']]"
      ]
     },
     "execution_count": 4,
     "metadata": {},
     "output_type": "execute_result"
    }
   ],
   "source": [
    "test[:5]"
   ]
  },
  {
   "cell_type": "code",
   "execution_count": 5,
   "metadata": {},
   "outputs": [],
   "source": [
    "user_dict = {}\n",
    "item_dict = {}\n",
    "user_count = 0\n",
    "item_count = 0\n",
    "\n",
    "for row in train:\n",
    "    if row[0] not in user_dict:\n",
    "        user_dict[row[0]] = user_count\n",
    "        user_count += 1\n",
    "    if row[1] not in item_dict:\n",
    "        item_dict[row[1]] = item_count\n",
    "        item_count += 1\n",
    "        \n",
    "for row in test:\n",
    "    if row[0] not in user_dict:\n",
    "        user_dict[row[0]] = user_count\n",
    "        user_count += 1\n",
    "    if row[1] not in item_dict:\n",
    "        item_dict[row[1]] = item_count\n",
    "        item_count += 1"
   ]
  },
  {
   "cell_type": "code",
   "execution_count": 6,
   "metadata": {},
   "outputs": [],
   "source": [
    "user_dict_2 = {}\n",
    "item_dict_2 = {}\n",
    "\n",
    "for user in user_dict:\n",
    "    user_dict_2[user_dict[user]] = user\n",
    "for item in item_dict:\n",
    "    item_dict_2[item_dict[item]] = item"
   ]
  },
  {
   "cell_type": "code",
   "execution_count": 7,
   "metadata": {},
   "outputs": [],
   "source": [
    "for row in train:\n",
    "    row[0] = user_dict[row[0]]\n",
    "    row[1] = item_dict[row[1]]\n",
    "    row[2] = float(row[2])\n",
    "    \n",
    "for row in test:\n",
    "    row[0] = user_dict[row[0]]\n",
    "    row[1] = item_dict[row[1]]\n",
    "    row[2] = float(row[2])"
   ]
  },
  {
   "cell_type": "code",
   "execution_count": 8,
   "metadata": {},
   "outputs": [
    {
     "data": {
      "text/plain": [
       "[[0, 0, 4.0, '828124615'],\n",
       " [0, 1, 5.0, '828124615'],\n",
       " [0, 2, 5.0, '828124615'],\n",
       " [0, 3, 4.0, '828124615'],\n",
       " [0, 4, 4.0, '828124615']]"
      ]
     },
     "execution_count": 8,
     "metadata": {},
     "output_type": "execute_result"
    }
   ],
   "source": [
    "train[:5]"
   ]
  },
  {
   "cell_type": "code",
   "execution_count": 9,
   "metadata": {},
   "outputs": [
    {
     "data": {
      "text/plain": [
       "[[0, 365, 3.0, '828124762'],\n",
       " [2, 521, 5.0, '829760898'],\n",
       " [3, 156, 4.0, '829828007'],\n",
       " [5, 34, 4.0, '830940246'],\n",
       " [6, 13, 2.0, '831400545']]"
      ]
     },
     "execution_count": 9,
     "metadata": {},
     "output_type": "execute_result"
    }
   ],
   "source": [
    "test[:5]"
   ]
  },
  {
   "cell_type": "markdown",
   "metadata": {},
   "source": [
    "### data size"
   ]
  },
  {
   "cell_type": "code",
   "execution_count": 10,
   "metadata": {},
   "outputs": [
    {
     "name": "stdout",
     "output_type": "stream",
     "text": [
      "number of ratings: 100226\n",
      "n_user: 610\n",
      "n_item: 9724\n"
     ]
    }
   ],
   "source": [
    "n_user = len(user_dict)\n",
    "n_item = len(item_dict)\n",
    "n_rating = len(train)\n",
    "\n",
    "print(\"number of ratings:\", n_rating)\n",
    "print(\"n_user:\", n_user)\n",
    "print(\"n_item:\", n_item)"
   ]
  },
  {
   "cell_type": "markdown",
   "metadata": {},
   "source": [
    "### number of training and updating"
   ]
  },
  {
   "cell_type": "code",
   "execution_count": 11,
   "metadata": {},
   "outputs": [
    {
     "name": "stdout",
     "output_type": "stream",
     "text": [
      "n_train: 100226\n",
      "n_test: 610\n"
     ]
    }
   ],
   "source": [
    "n_train = len(train)\n",
    "n_test = len(test)\n",
    "\n",
    "print(\"n_train:\", n_train)\n",
    "print(\"n_test:\", n_test)"
   ]
  },
  {
   "cell_type": "markdown",
   "metadata": {},
   "source": [
    "### construct rating matrix"
   ]
  },
  {
   "cell_type": "code",
   "execution_count": 12,
   "metadata": {},
   "outputs": [],
   "source": [
    "ratings = []\n",
    "zeros = np.zeros(n_item)\n",
    "\n",
    "for _ in range(n_user):\n",
    "    ratings.append(zeros.copy())\n",
    "    \n",
    "for i in range(n_train):\n",
    "    ratings[train[i][0]][train[i][1]] = 1.0"
   ]
  },
  {
   "cell_type": "code",
   "execution_count": 13,
   "metadata": {},
   "outputs": [
    {
     "data": {
      "text/plain": [
       "array([1., 1., 1., 1., 1., 1., 1., 1., 1., 1.])"
      ]
     },
     "execution_count": 13,
     "metadata": {},
     "output_type": "execute_result"
    }
   ],
   "source": [
    "ratings[0][:10]"
   ]
  },
  {
   "cell_type": "markdown",
   "metadata": {},
   "source": [
    "### list rated movies for each user & for each movie"
   ]
  },
  {
   "cell_type": "code",
   "execution_count": 14,
   "metadata": {},
   "outputs": [],
   "source": [
    "rate_lists_user = []\n",
    "rate_lists_item = []\n",
    "\n",
    "for i in range(n_user):\n",
    "    tmp = []\n",
    "    for j in range(n_item):\n",
    "        if ratings[i][j] > 0.1:\n",
    "            tmp.append(j)\n",
    "    rate_lists_user.append(tmp.copy())\n",
    "    \n",
    "for i in range(n_item):\n",
    "    tmp = []\n",
    "    for j in range(n_user):\n",
    "        if ratings[j][i] > 0.1:\n",
    "            tmp.append(j)\n",
    "    rate_lists_item.append(tmp.copy())"
   ]
  },
  {
   "cell_type": "code",
   "execution_count": 15,
   "metadata": {},
   "outputs": [
    {
     "data": {
      "text/plain": [
       "57"
      ]
     },
     "execution_count": 15,
     "metadata": {},
     "output_type": "execute_result"
    }
   ],
   "source": [
    "len(rate_lists_user[0])"
   ]
  },
  {
   "cell_type": "code",
   "execution_count": 16,
   "metadata": {},
   "outputs": [
    {
     "data": {
      "text/plain": [
       "35"
      ]
     },
     "execution_count": 16,
     "metadata": {},
     "output_type": "execute_result"
    }
   ],
   "source": [
    "len(rate_lists_item[0])"
   ]
  },
  {
   "cell_type": "markdown",
   "metadata": {},
   "source": [
    "### initialize user and item vectors"
   ]
  },
  {
   "cell_type": "code",
   "execution_count": 17,
   "metadata": {},
   "outputs": [],
   "source": [
    "user_vecs = []\n",
    "item_vecs = []\n",
    "dim = 100\n",
    "\n",
    "def noise(dim):\n",
    "    return np.random.uniform(-1, 1, dim)\n",
    "\n",
    "for i in range(n_user):\n",
    "    user_vecs.append(noise(dim))\n",
    "for i in range(n_item):\n",
    "    item_vecs.append(noise(dim))"
   ]
  },
  {
   "cell_type": "code",
   "execution_count": 18,
   "metadata": {},
   "outputs": [
    {
     "data": {
      "text/plain": [
       "array([ 0.16543598,  0.42040038, -0.72956529,  0.91314608, -0.35204616,\n",
       "        0.08962635,  0.01434623,  0.22756327,  0.2563137 ,  0.83743456,\n",
       "       -0.15319947,  0.37150256,  0.36158229, -0.02731115, -0.1328144 ,\n",
       "        0.90399469,  0.32778973,  0.91458163,  0.69388054, -0.44689616,\n",
       "       -0.07789735, -0.45312022, -0.10886928,  0.53952038, -0.75047714,\n",
       "       -0.44747907, -0.24903049,  0.00998608,  0.57722713, -0.07316625,\n",
       "        0.08683585, -0.11967665,  0.65375798,  0.58304038, -0.1470068 ,\n",
       "        0.62092766, -0.64027034, -0.37709201, -0.50375797,  0.94148027,\n",
       "       -0.84098036,  0.4460965 , -0.72136175, -0.93645051, -0.431411  ,\n",
       "        0.97304801,  0.96689519, -0.8817354 , -0.18514673,  0.85686006,\n",
       "       -0.68637553,  0.07038211,  0.47953772,  0.18407056,  0.88599497,\n",
       "       -0.18064832, -0.59928211, -0.96399679,  0.01393502,  0.09561664,\n",
       "       -0.0263926 , -0.06978904,  0.3077995 ,  0.18731418, -0.27938881,\n",
       "        0.35903129, -0.16037093,  0.65309509,  0.14390194, -0.63937378,\n",
       "       -0.61193077,  0.28352305, -0.16546322,  0.07352869,  0.14034162,\n",
       "       -0.26953613,  0.23307437, -0.77201289,  0.23324128,  0.01175123,\n",
       "        0.84195503,  0.69408818, -0.57484925,  0.19629416,  0.26449848,\n",
       "       -0.28279685,  0.98910146,  0.29659944,  0.44508321, -0.3337515 ,\n",
       "       -0.21481428,  0.61211986,  0.98103307,  0.99135628,  0.93089371,\n",
       "        0.47266972,  0.43034998, -0.38066112, -0.59572341, -0.51382501])"
      ]
     },
     "execution_count": 18,
     "metadata": {},
     "output_type": "execute_result"
    }
   ],
   "source": [
    "user_vecs[0]"
   ]
  },
  {
   "cell_type": "markdown",
   "metadata": {},
   "source": [
    "### calculate $S^{user}$ and $S^{item}$"
   ]
  },
  {
   "cell_type": "code",
   "execution_count": 19,
   "metadata": {},
   "outputs": [],
   "source": [
    "def vec_mul(arr):\n",
    "    l = len(arr)\n",
    "    ret = []\n",
    "    \n",
    "    for i in range(l):\n",
    "        tmp = np.zeros(l)\n",
    "        for j in range(l):\n",
    "            tmp[j] = arr[i] * arr[j]\n",
    "        ret.append(tmp)\n",
    "        \n",
    "    return ret"
   ]
  },
  {
   "cell_type": "code",
   "execution_count": 20,
   "metadata": {},
   "outputs": [],
   "source": [
    "def update_s_user():\n",
    "    for i in range(n_user):\n",
    "        s = vec_mul(user_vecs[i])\n",
    "        for j in range(dim):\n",
    "            s_user[j] += s[j]\n",
    "\n",
    "def update_s_item():\n",
    "    for i in range(n_item):\n",
    "        s = vec_mul(item_vecs[i])\n",
    "        for j in range(dim):\n",
    "            s_item[j] += s[j]"
   ]
  },
  {
   "cell_type": "markdown",
   "metadata": {},
   "source": [
    "### gradient of loss"
   ]
  },
  {
   "cell_type": "code",
   "execution_count": 21,
   "metadata": {},
   "outputs": [],
   "source": [
    "def dot(a, b):\n",
    "    ret = 0.0\n",
    "    for i in range(len(a)):\n",
    "        ret += a[i] * b[i]\n",
    "    return ret\n",
    "\n",
    "def sign(x):\n",
    "    if x >= 0:\n",
    "        return 1\n",
    "    else:\n",
    "        return -1\n",
    "\n",
    "def gradient_user(i, alpha, lmd):\n",
    "    ret = np.zeros(dim)\n",
    "    # 2 * \\alpha * w_i * S^h\n",
    "    for j in range(dim):\n",
    "        ret[j] += 2 * alpha * dot(user_vecs[i], s_item[j])\n",
    "    # \\lambda * sign(w_i)\n",
    "    for j in range(dim):\n",
    "        ret[j] += lmd * sign(user_vecs[i][j])\n",
    "    # -2 * \\sum{h_j}\n",
    "    for j in range(len(rate_lists_user[i])):\n",
    "        no = rate_lists_user[i][j]\n",
    "        rate = ratings[i][no]\n",
    "        scalar = rate - (1-alpha) * dot(user_vecs[i], item_vecs[no])\n",
    "        scalar *= -2\n",
    "        ret += scalar * item_vecs[no]\n",
    "    return ret\n",
    "\n",
    "def gradient_item(i, alpha, lmd):\n",
    "    ret = np.zeros(dim)\n",
    "    # 2 * \\alpha * h_i * S^w\n",
    "    for j in range(dim):\n",
    "        ret[j] += 2 * alpha * dot(item_vecs[i], s_user[j])\n",
    "    # \\lambda * sign(h_i)\n",
    "    for j in range(dim):\n",
    "        ret[j] += lmd * sign(item_vecs[i][j])\n",
    "    # -2 * \\sum{w_j}\n",
    "    for j in range(len(rate_lists_item[i])):\n",
    "        no = rate_lists_item[i][j]\n",
    "        rate = ratings[no][i]\n",
    "        scalar = rate - (1-alpha) * dot(item_vecs[i], user_vecs[no])\n",
    "        scalar *= -2\n",
    "        ret += scalar * user_vecs[no]\n",
    "    return ret\n",
    "\n",
    "def gradient_user_u(i, alpha, lmd):\n",
    "    ret = np.zeros(dim)\n",
    "    # 2 * \\alpha * w_i * S^h\n",
    "    for j in range(dim):\n",
    "        ret[j] += 2 * alpha * dot(user_vecs_u[i], s_item_u[j])\n",
    "    # \\lambda * sign(w_i)\n",
    "    for j in range(dim):\n",
    "        ret[j] += lmd * sign(user_vecs_u[i][j])\n",
    "    # -2 * \\sum{h_j}\n",
    "    for j in range(len(rate_lists_user_u[i])):\n",
    "        no = rate_lists_user_u[i][j]\n",
    "        rate = ratings_u[i][no]\n",
    "        scalar = rate - (1-alpha) * dot(user_vecs_u[i], item_vecs_u[no])\n",
    "        scalar *= -2\n",
    "        ret += scalar * item_vecs_u[no]\n",
    "    return ret\n",
    "\n",
    "def gradient_item_u(i, alpha, lmd):\n",
    "    ret = np.zeros(dim)\n",
    "    # 2 * \\alpha * h_i * S^w\n",
    "    for j in range(dim):\n",
    "        ret[j] += 2 * alpha * dot(item_vecs_u[i], s_user_u[j])\n",
    "    # \\lambda * sign(h_i)\n",
    "    for j in range(dim):\n",
    "        ret[j] += lmd * sign(item_vecs_u[i][j])\n",
    "    # -2 * \\sum{w_j}\n",
    "    for j in range(len(rate_lists_item_u[i])):\n",
    "        no = rate_lists_item_u[i][j]\n",
    "        rate = ratings_u[no][i]\n",
    "        scalar = rate - (1-alpha) * dot(item_vecs_u[i], user_vecs_u[no])\n",
    "        scalar *= -2\n",
    "        ret += scalar * user_vecs_u[no]\n",
    "    return ret"
   ]
  },
  {
   "cell_type": "markdown",
   "metadata": {},
   "source": [
    "### hyperparameters"
   ]
  },
  {
   "cell_type": "code",
   "execution_count": 22,
   "metadata": {},
   "outputs": [
    {
     "name": "stdout",
     "output_type": "stream",
     "text": [
      "lambda: 0.01\n",
      "alpha: 0.035\n",
      "rho: 2.036392652605113\n",
      "learning rate: 0.001\n"
     ]
    }
   ],
   "source": [
    "lmd = 0.01\n",
    "alpha = 0.035\n",
    "rho = alpha * (n_user*n_item - n_train) / n_train\n",
    "EPOCH = 60\n",
    "lr = 0.001 # the paper use line search, but setting learning rate is good enough\n",
    "\n",
    "print(\"lambda:\", lmd)\n",
    "print(\"alpha:\", alpha)\n",
    "print(\"rho:\", rho)\n",
    "print(\"learning rate:\", lr)"
   ]
  },
  {
   "cell_type": "markdown",
   "metadata": {},
   "source": [
    "### train"
   ]
  },
  {
   "cell_type": "code",
   "execution_count": 23,
   "metadata": {},
   "outputs": [],
   "source": [
    "def update_user(i, scalar):\n",
    "    mat = vec_mul(user_vecs[i])\n",
    "    for j in range(dim):\n",
    "        s_user[j] += scalar * mat[j]\n",
    "    return\n",
    "\n",
    "def update_item(i, scalar):\n",
    "    mat = vec_mul(item_vecs[i])\n",
    "    for j in range(dim):\n",
    "        s_item[j] += scalar * mat[j]\n",
    "    return\n",
    "\n",
    "def update_user_u(i, scalar):\n",
    "    mat = vec_mul(user_vecs_u[i])\n",
    "    for j in range(dim):\n",
    "        s_user_u[j] += scalar * mat[j]\n",
    "    return\n",
    "\n",
    "def update_item_u(i, scalar):\n",
    "    mat = vec_mul(item_vecs_u[i])\n",
    "    for j in range(dim):\n",
    "        s_item_u[j] += scalar * mat[j]\n",
    "    return"
   ]
  },
  {
   "cell_type": "code",
   "execution_count": 24,
   "metadata": {},
   "outputs": [],
   "source": [
    "def cal_loss():\n",
    "    ret = 0.0\n",
    "    for i in range(n_user):\n",
    "        for j in range(n_item):\n",
    "            if ratings[i][j] > 0.1:\n",
    "                residual = ratings[i][j] - dot(user_vecs[i], item_vecs[j])\n",
    "                ret += residual ** 2\n",
    "            else:\n",
    "                residual = ratings[i][j] - dot(user_vecs[i], item_vecs[j])\n",
    "                ret += alpha * (residual ** 2)\n",
    "    sum_w = 0.0\n",
    "    for i in range(n_user):\n",
    "        for j in range(dim):\n",
    "            sum_w += sign(user_vecs[i][j]) * user_vecs[i][j]\n",
    "    for i in range(n_item):\n",
    "        for j in range(dim):\n",
    "            sum_w += sign(item_vecs[i][j]) * item_vecs[i][j]\n",
    "    return ret + lmd * sum_w\n",
    "\n",
    "def cal_loss_u():\n",
    "    ret = 0.0\n",
    "    for i in range(n_user):\n",
    "        for j in range(n_item):\n",
    "            if ratings_u[i][j] > 0.1:\n",
    "                residual = ratings_u[i][j] - dot(user_vecs_u[i], item_vecs_u[j])\n",
    "                ret += residual ** 2\n",
    "            else:\n",
    "                residual = ratings_u[i][j] - dot(user_vecs_u[i], item_vecs_u[j])\n",
    "                ret += alpha * (residual ** 2)\n",
    "    sum_w = 0.0\n",
    "    for i in range(n_user):\n",
    "        for j in range(dim):\n",
    "            sum_w += sign(user_vecs_u[i][j]) * user_vecs_u[i][j]\n",
    "    for i in range(n_item):\n",
    "        for j in range(dim):\n",
    "            sum_w += sign(item_vecs_u[i][j]) * item_vecs_u[i][j]\n",
    "    return ret + lmd * sum_w"
   ]
  },
  {
   "cell_type": "code",
   "execution_count": 25,
   "metadata": {},
   "outputs": [],
   "source": [
    "def cal_acc(n):\n",
    "    predict = []\n",
    "    rates = []\n",
    "    error = 0.0\n",
    "\n",
    "    for i in range(n):\n",
    "        rates.append(1.0)\n",
    "        predict.append(dot(user_vecs[test[i][0]], item_vecs[test[i][1]]))\n",
    "\n",
    "    for i in range(n):\n",
    "        error += abs(rates[i] - predict[i])\n",
    "\n",
    "    return error / n\n",
    "\n",
    "def cal_acc_u(n):\n",
    "    predict = []\n",
    "    rates = []\n",
    "    error = 0.0\n",
    "\n",
    "    for i in range(n):\n",
    "        rates.append(1.0)\n",
    "        predict.append(dot(user_vecs_u[test[i][0]], item_vecs_u[test[i][1]]))\n",
    "\n",
    "    for i in range(n):\n",
    "        error += abs(rates[i] - predict[i])\n",
    "\n",
    "    return error / n\n",
    "\n",
    "def cal_insample_acc(n):\n",
    "    predict = []\n",
    "    rates = []\n",
    "    error = 0.0\n",
    "\n",
    "    for i in range(n):\n",
    "        rates.append(1.0)\n",
    "        predict.append(dot(user_vecs[train[i][0]], item_vecs[train[i][1]]))\n",
    "\n",
    "    for i in range(n):\n",
    "        error += abs(rates[i] - predict[i])\n",
    "\n",
    "    return error / n\n",
    "\n",
    "def cal_insample_acc_u(n):\n",
    "    predict = []\n",
    "    rates = []\n",
    "    error = 0.0\n",
    "\n",
    "    for i in range(n):\n",
    "        rates.append(1.0)\n",
    "        predict.append(dot(user_vecs_u[train[i][0]], item_vecs_u[train[i][1]]))\n",
    "\n",
    "    for i in range(n):\n",
    "        error += abs(rates[i] - predict[i])\n",
    "\n",
    "    return error / n"
   ]
  },
  {
   "cell_type": "code",
   "execution_count": 26,
   "metadata": {},
   "outputs": [],
   "source": [
    "user_vecs = []\n",
    "item_vecs = []\n",
    "s_user = vec_mul(np.zeros(dim))\n",
    "s_item = vec_mul(np.zeros(dim))\n",
    "\n",
    "for i in range(n_user):\n",
    "    user_vecs.append(noise(dim))\n",
    "for i in range(n_item):\n",
    "    item_vecs.append(noise(dim))\n",
    "\n",
    "update_s_user()\n",
    "update_s_item()\n",
    "\n",
    "user_vecs_u = copy.deepcopy(user_vecs)\n",
    "item_vecs_u = copy.deepcopy(item_vecs)\n",
    "s_user_u = copy.deepcopy(s_user)\n",
    "s_item_u = copy.deepcopy(s_item)"
   ]
  },
  {
   "cell_type": "code",
   "execution_count": 27,
   "metadata": {},
   "outputs": [],
   "source": [
    "user_vecs = copy.deepcopy(user_vecs_u)\n",
    "item_vecs = copy.deepcopy(item_vecs_u)\n",
    "s_user = copy.deepcopy(s_user_u)\n",
    "s_item = copy.deepcopy(s_item_u)\n",
    "\n",
    "start_train_time = time.time()\n",
    "cal_loss_time = 0.0\n",
    "cal_acc_time = 0.0\n",
    "\n",
    "losses = []\n",
    "in_accs = []\n",
    "out_accs = []"
   ]
  },
  {
   "cell_type": "code",
   "execution_count": null,
   "metadata": {},
   "outputs": [
    {
     "name": "stdout",
     "output_type": "stream",
     "text": [
      "user: 100 ; in-sample error: 2.781315888157522 ; out-sample error 2.7385263283420516\n",
      "user: 200 ; in-sample error: 2.656277855876597 ; out-sample error 2.60421027840175\n",
      "user: 300 ; in-sample error: 2.461896376169439 ; out-sample error 2.4886528602197413\n",
      "user: 400 ; in-sample error: 2.391279566246328 ; out-sample error 2.3587535313850982\n",
      "user: 500 ; in-sample error: 2.3213129653613715 ; out-sample error 2.2357882937508804\n",
      "user: 600 ; in-sample error: 1.956304156002879 ; out-sample error 2.094967149576474\n",
      "item: 100 ; in-sample error: 1.9549257608695587 ; out-sample error 2.082941867672379\n",
      "item: 200 ; in-sample error: 1.9538213033886924 ; out-sample error 2.0826023034889007\n",
      "item: 300 ; in-sample error: 1.9534206317709035 ; out-sample error 2.0825083053362397\n",
      "item: 400 ; in-sample error: 1.9527273232844813 ; out-sample error 2.0824987379172395\n",
      "item: 500 ; in-sample error: 1.951786723594688 ; out-sample error 2.0823242280640963\n",
      "item: 600 ; in-sample error: 1.948930922326579 ; out-sample error 2.0822520581830473\n",
      "item: 700 ; in-sample error: 1.9462149402832498 ; out-sample error 2.081798463945177\n",
      "item: 800 ; in-sample error: 1.944472699300367 ; out-sample error 2.0816516966432386\n",
      "item: 900 ; in-sample error: 1.943551030073559 ; out-sample error 2.0808408792641324\n",
      "item: 1000 ; in-sample error: 1.9424620292336203 ; out-sample error 2.0793447911219287\n",
      "item: 1100 ; in-sample error: 1.9391711481379699 ; out-sample error 2.0791453500059034\n",
      "item: 1200 ; in-sample error: 1.9384823083425642 ; out-sample error 2.078684751110893\n",
      "item: 1300 ; in-sample error: 1.9380496461619863 ; out-sample error 2.078383030104811\n",
      "item: 1400 ; in-sample error: 1.9378407517735368 ; out-sample error 2.0778348331561918\n",
      "item: 1500 ; in-sample error: 1.9344719292514787 ; out-sample error 2.0768634103381935\n",
      "item: 1600 ; in-sample error: 1.9326209472909364 ; out-sample error 2.0765536938967597\n",
      "item: 1700 ; in-sample error: 1.9323462685860648 ; out-sample error 2.076590375317907\n",
      "item: 1800 ; in-sample error: 1.9320459780152077 ; out-sample error 2.0762046364656817\n",
      "item: 1900 ; in-sample error: 1.9311755997853022 ; out-sample error 2.0748225274254737\n",
      "item: 2000 ; in-sample error: 1.9308949850553543 ; out-sample error 2.0746932768164807\n",
      "item: 2100 ; in-sample error: 1.9285649991480789 ; out-sample error 2.074813407219559\n",
      "item: 2200 ; in-sample error: 1.9280966000181345 ; out-sample error 2.074619344150569\n",
      "item: 2300 ; in-sample error: 1.925847109929628 ; out-sample error 2.0744675048949865\n",
      "item: 2400 ; in-sample error: 1.9254751676314985 ; out-sample error 2.0742589523663746\n",
      "item: 2500 ; in-sample error: 1.9230256623137918 ; out-sample error 2.0744205502302417\n",
      "item: 2600 ; in-sample error: 1.9189006293970436 ; out-sample error 2.0741463616231153\n",
      "item: 2700 ; in-sample error: 1.918037762867497 ; out-sample error 2.073602346204926\n",
      "item: 2800 ; in-sample error: 1.9177431791531911 ; out-sample error 2.073267072187221\n",
      "item: 2900 ; in-sample error: 1.9169327948272958 ; out-sample error 2.07311157586876\n",
      "item: 3000 ; in-sample error: 1.9153272616992574 ; out-sample error 2.0727947217517224\n",
      "item: 3100 ; in-sample error: 1.9152313441831565 ; out-sample error 2.0724920066613945\n",
      "item: 3200 ; in-sample error: 1.9108992626807348 ; out-sample error 2.071404050704039\n",
      "item: 3300 ; in-sample error: 1.9101336823189725 ; out-sample error 2.0713067675375303\n",
      "item: 3400 ; in-sample error: 1.9088834932762748 ; out-sample error 2.071211782927668\n",
      "item: 3500 ; in-sample error: 1.9088834932762748 ; out-sample error 2.0710222800844287\n",
      "item: 3600 ; in-sample error: 1.9086114943471457 ; out-sample error 2.070948911139391\n",
      "item: 3700 ; in-sample error: 1.9086114943471457 ; out-sample error 2.070787630480083\n",
      "item: 3800 ; in-sample error: 1.9080915584446496 ; out-sample error 2.069972680968214\n",
      "item: 3900 ; in-sample error: 1.9077281283989722 ; out-sample error 2.069944490145822\n",
      "item: 4000 ; in-sample error: 1.9072031160941405 ; out-sample error 2.0697287322011255\n",
      "item: 4100 ; in-sample error: 1.9063374629819707 ; out-sample error 2.0687930059034847\n",
      "item: 4200 ; in-sample error: 1.9041446421949122 ; out-sample error 2.068431705025165\n",
      "item: 4300 ; in-sample error: 1.9038326178456844 ; out-sample error 2.067862397427559\n",
      "item: 4400 ; in-sample error: 1.902494968133742 ; out-sample error 2.0673408402124704\n",
      "item: 4500 ; in-sample error: 1.9024161684126313 ; out-sample error 2.067053884795309\n",
      "item: 4600 ; in-sample error: 1.900913363578215 ; out-sample error 2.066939458552092\n",
      "item: 4700 ; in-sample error: 1.9009757952352122 ; out-sample error 2.066521031341092\n",
      "item: 4800 ; in-sample error: 1.8992358118363029 ; out-sample error 2.066610675625051\n",
      "item: 4900 ; in-sample error: 1.8983950358467243 ; out-sample error 2.066495547877467\n",
      "item: 5000 ; in-sample error: 1.8975983329993562 ; out-sample error 2.0662248212381433\n",
      "item: 5100 ; in-sample error: 1.8971752505134307 ; out-sample error 2.0660592939601647\n",
      "item: 5200 ; in-sample error: 1.8971752505134307 ; out-sample error 2.065851941932907\n",
      "item: 5300 ; in-sample error: 1.8971752505134307 ; out-sample error 2.065770919457704\n",
      "item: 5400 ; in-sample error: 1.8971752505134307 ; out-sample error 2.065474987797679\n",
      "item: 5500 ; in-sample error: 1.8947898802373226 ; out-sample error 2.0656010459210656\n",
      "item: 5600 ; in-sample error: 1.8938247362296161 ; out-sample error 2.065151016349295\n",
      "item: 5700 ; in-sample error: 1.8927443069612166 ; out-sample error 2.064998650025692\n",
      "item: 5800 ; in-sample error: 1.8909533926075077 ; out-sample error 2.0646467748806385\n",
      "item: 5900 ; in-sample error: 1.8909533926075077 ; out-sample error 2.0646076187875617\n",
      "item: 6000 ; in-sample error: 1.8909214407926465 ; out-sample error 2.064578940823434\n",
      "item: 6100 ; in-sample error: 1.8907965677407637 ; out-sample error 2.0643805480014428\n",
      "item: 6200 ; in-sample error: 1.8906235600762893 ; out-sample error 2.0641815647003305\n",
      "item: 6300 ; in-sample error: 1.8900312440963385 ; out-sample error 2.064049367142869\n",
      "item: 6400 ; in-sample error: 1.8896436881282954 ; out-sample error 2.06379872102666\n",
      "item: 6500 ; in-sample error: 1.8895790501830845 ; out-sample error 2.0634404871421888\n",
      "item: 6600 ; in-sample error: 1.8882901777725196 ; out-sample error 2.0632023054938355\n",
      "item: 6700 ; in-sample error: 1.8871245059432786 ; out-sample error 2.062389382195277\n",
      "item: 6800 ; in-sample error: 1.8871245059432786 ; out-sample error 2.0618600478926914\n",
      "item: 6900 ; in-sample error: 1.8871245059432786 ; out-sample error 2.0614766767332373\n",
      "item: 7000 ; in-sample error: 1.886147313153232 ; out-sample error 2.0614420635087862\n",
      "item: 7100 ; in-sample error: 1.8850506012777644 ; out-sample error 2.061120069547493\n",
      "item: 7200 ; in-sample error: 1.8839993123485697 ; out-sample error 2.060820196677574\n",
      "item: 7300 ; in-sample error: 1.8829776269039 ; out-sample error 2.0608652018300755\n",
      "item: 7400 ; in-sample error: 1.8818672379470978 ; out-sample error 2.0605438198001695\n",
      "item: 7500 ; in-sample error: 1.8814712121585357 ; out-sample error 2.0602660628669547\n",
      "item: 7600 ; in-sample error: 1.879829436857283 ; out-sample error 2.059756589756595\n",
      "item: 7700 ; in-sample error: 1.8772608217493703 ; out-sample error 2.0593766295659903\n",
      "item: 7800 ; in-sample error: 1.8769423736097839 ; out-sample error 2.0588701828672047\n",
      "item: 7900 ; in-sample error: 1.875584912787079 ; out-sample error 2.058190564683962\n",
      "item: 8000 ; in-sample error: 1.8755573540967754 ; out-sample error 2.057993475423659\n",
      "item: 8100 ; in-sample error: 1.8755453644675086 ; out-sample error 2.0576154331559917\n",
      "item: 8200 ; in-sample error: 1.873898797856692 ; out-sample error 2.0574139868454306\n",
      "item: 8300 ; in-sample error: 1.873898797856692 ; out-sample error 2.0571059655784216\n",
      "item: 8400 ; in-sample error: 1.871297285245637 ; out-sample error 2.0569497458176897\n",
      "item: 8500 ; in-sample error: 1.8693763176613432 ; out-sample error 2.056713300030193\n",
      "item: 8600 ; in-sample error: 1.8692673683284116 ; out-sample error 2.0565481491091955\n",
      "item: 8700 ; in-sample error: 1.8692673683284116 ; out-sample error 2.0565762539896886\n",
      "item: 8800 ; in-sample error: 1.8682182069437752 ; out-sample error 2.0564665380502936\n",
      "item: 8900 ; in-sample error: 1.8654167412639369 ; out-sample error 2.0556552619136355\n",
      "item: 9000 ; in-sample error: 1.863048052479715 ; out-sample error 2.055435508106301\n"
     ]
    },
    {
     "name": "stdout",
     "output_type": "stream",
     "text": [
      "item: 9100 ; in-sample error: 1.860591650168078 ; out-sample error 2.0551877288432747\n",
      "item: 9200 ; in-sample error: 1.860591650168078 ; out-sample error 2.0549279112260637\n",
      "item: 9300 ; in-sample error: 1.8605438656261186 ; out-sample error 2.0546048524273868\n",
      "item: 9400 ; in-sample error: 1.8599172857761306 ; out-sample error 2.054767401085918\n",
      "item: 9500 ; in-sample error: 1.858534849323175 ; out-sample error 2.05470548785257\n",
      "item: 9600 ; in-sample error: 1.85671750212629 ; out-sample error 2.0544937551033415\n",
      "item: 9700 ; in-sample error: 1.8554907582998585 ; out-sample error 2.0541328323188255\n",
      "\n",
      "epoch 0 : averge error(in): 1.8554907582998585 ; averge error(out): 2.0541675508079793 \n",
      "\n",
      "user: 100 ; in-sample error: 1.7317130220086314 ; out-sample error 1.989389026357975\n",
      "user: 200 ; in-sample error: 1.7091952805511665 ; out-sample error 1.9101688165615882\n",
      "user: 300 ; in-sample error: 1.5949142421997056 ; out-sample error 1.835081585583218\n",
      "user: 400 ; in-sample error: 1.574908088741021 ; out-sample error 1.7572136981773547\n",
      "user: 500 ; in-sample error: 1.5325258576303347 ; out-sample error 1.6911872633138023\n",
      "user: 600 ; in-sample error: 1.3888459336358832 ; out-sample error 1.6202531896813983\n",
      "item: 100 ; in-sample error: 1.3887725034649476 ; out-sample error 1.6180299727387586\n",
      "item: 200 ; in-sample error: 1.3885464526070446 ; out-sample error 1.6180059582854693\n",
      "item: 300 ; in-sample error: 1.3882422167511583 ; out-sample error 1.618024757634788\n",
      "item: 400 ; in-sample error: 1.3880864797173629 ; out-sample error 1.6179439193074412\n",
      "item: 500 ; in-sample error: 1.3879045990367251 ; out-sample error 1.6179168530483705\n",
      "item: 600 ; in-sample error: 1.3873237935163076 ; out-sample error 1.6176090209082892\n",
      "item: 700 ; in-sample error: 1.3868416630489546 ; out-sample error 1.6176682103386308\n",
      "item: 800 ; in-sample error: 1.3867759172972158 ; out-sample error 1.617518888786742\n",
      "item: 900 ; in-sample error: 1.3865363859608486 ; out-sample error 1.6172732587882082\n",
      "item: 1000 ; in-sample error: 1.3865252061544777 ; out-sample error 1.6173653948393245\n",
      "item: 1100 ; in-sample error: 1.385749849860071 ; out-sample error 1.6172738316755628\n",
      "item: 1200 ; in-sample error: 1.3855211637152582 ; out-sample error 1.6171538950170596\n",
      "item: 1300 ; in-sample error: 1.385359039387782 ; out-sample error 1.6171502889897067\n",
      "item: 1400 ; in-sample error: 1.3847648555797525 ; out-sample error 1.617012777184847\n",
      "item: 1500 ; in-sample error: 1.384156514350583 ; out-sample error 1.616927624416373\n",
      "item: 1600 ; in-sample error: 1.384022309180054 ; out-sample error 1.6168627672573035\n",
      "item: 1700 ; in-sample error: 1.3832720542377548 ; out-sample error 1.6169495523600599\n",
      "item: 1800 ; in-sample error: 1.3828471011255683 ; out-sample error 1.6169029260829915\n",
      "item: 1900 ; in-sample error: 1.3828160250102572 ; out-sample error 1.6167792559312903\n",
      "item: 2000 ; in-sample error: 1.3818815238397995 ; out-sample error 1.6166385079037697\n",
      "item: 2100 ; in-sample error: 1.3818815238397995 ; out-sample error 1.6165313045696885\n",
      "item: 2200 ; in-sample error: 1.381391849709106 ; out-sample error 1.6164909324957446\n",
      "item: 2300 ; in-sample error: 1.381138118373863 ; out-sample error 1.6164409481308701\n",
      "item: 2400 ; in-sample error: 1.3807698506647352 ; out-sample error 1.616213188267702\n",
      "item: 2500 ; in-sample error: 1.3807338209664832 ; out-sample error 1.6162181895514576\n",
      "item: 2600 ; in-sample error: 1.3791929517219528 ; out-sample error 1.6161658859764703\n",
      "item: 2700 ; in-sample error: 1.378613856460425 ; out-sample error 1.615858002273739\n",
      "item: 2800 ; in-sample error: 1.3782370362223693 ; out-sample error 1.6158268320987557\n",
      "item: 2900 ; in-sample error: 1.37783643553046 ; out-sample error 1.6157445699831527\n",
      "item: 3000 ; in-sample error: 1.3775378343382898 ; out-sample error 1.6155675696580214\n",
      "item: 3100 ; in-sample error: 1.3775378343382898 ; out-sample error 1.6155423035437524\n",
      "item: 3200 ; in-sample error: 1.3775378343382898 ; out-sample error 1.6155068866498536\n",
      "item: 3300 ; in-sample error: 1.377545622000113 ; out-sample error 1.6153856506649227\n",
      "item: 3400 ; in-sample error: 1.3760505258644402 ; out-sample error 1.6153762286981046\n",
      "item: 3500 ; in-sample error: 1.3755085511566711 ; out-sample error 1.6153172120916877\n",
      "item: 3600 ; in-sample error: 1.3747752563604254 ; out-sample error 1.6151420343077563\n",
      "item: 3700 ; in-sample error: 1.3746364333610108 ; out-sample error 1.615107418108913\n",
      "item: 3800 ; in-sample error: 1.3735383166056965 ; out-sample error 1.6149576020386383\n",
      "item: 3900 ; in-sample error: 1.3735269622773527 ; out-sample error 1.6149428947671098\n",
      "item: 4000 ; in-sample error: 1.373384989877665 ; out-sample error 1.6146207925798868\n",
      "item: 4100 ; in-sample error: 1.373253985968059 ; out-sample error 1.6145447244272069\n",
      "item: 4200 ; in-sample error: 1.3725217908868672 ; out-sample error 1.6146098535373483\n",
      "item: 4300 ; in-sample error: 1.3721797500729218 ; out-sample error 1.6142822346310162\n",
      "item: 4400 ; in-sample error: 1.3721815145980862 ; out-sample error 1.6141890124724096\n",
      "item: 4500 ; in-sample error: 1.3721376007231174 ; out-sample error 1.6137675105666027\n",
      "item: 4600 ; in-sample error: 1.3721376007231174 ; out-sample error 1.613703444675036\n",
      "item: 4700 ; in-sample error: 1.3719934698141056 ; out-sample error 1.6135319351261264\n",
      "item: 4800 ; in-sample error: 1.3713487508935116 ; out-sample error 1.6135078317031506\n",
      "item: 4900 ; in-sample error: 1.3712587361269186 ; out-sample error 1.6134579510896099\n",
      "item: 5000 ; in-sample error: 1.3711138972729713 ; out-sample error 1.6131184013207094\n",
      "item: 5100 ; in-sample error: 1.370719576112747 ; out-sample error 1.6130333533371488\n",
      "item: 5200 ; in-sample error: 1.3706510115469637 ; out-sample error 1.6129242612941568\n",
      "item: 5300 ; in-sample error: 1.3701560380490103 ; out-sample error 1.6128019888493688\n",
      "item: 5400 ; in-sample error: 1.36946140468787 ; out-sample error 1.612685414236185\n",
      "item: 5500 ; in-sample error: 1.368523794100474 ; out-sample error 1.6123523226404224\n",
      "item: 5600 ; in-sample error: 1.368017782909334 ; out-sample error 1.6122568693288872\n",
      "item: 5700 ; in-sample error: 1.3674976047344056 ; out-sample error 1.6121807506027626\n",
      "item: 5800 ; in-sample error: 1.3672403814095302 ; out-sample error 1.6118297210729715\n",
      "item: 5900 ; in-sample error: 1.3670874957656933 ; out-sample error 1.6118312572906206\n",
      "item: 6000 ; in-sample error: 1.3669667352964916 ; out-sample error 1.6115332714163333\n",
      "item: 6100 ; in-sample error: 1.3669056163180258 ; out-sample error 1.6115955951158398\n",
      "item: 6200 ; in-sample error: 1.3669056163180258 ; out-sample error 1.6115589002470294\n",
      "item: 6300 ; in-sample error: 1.3669056163180258 ; out-sample error 1.6114891472624335\n",
      "item: 6400 ; in-sample error: 1.36665645792614 ; out-sample error 1.6115427116577492\n",
      "item: 6500 ; in-sample error: 1.3662062133889492 ; out-sample error 1.6113141524550374\n",
      "item: 6600 ; in-sample error: 1.3662062133889492 ; out-sample error 1.6110387811297804\n",
      "item: 6700 ; in-sample error: 1.3661862847425388 ; out-sample error 1.6108552970349226\n",
      "item: 6800 ; in-sample error: 1.3661407275409716 ; out-sample error 1.6107269375513262\n",
      "item: 6900 ; in-sample error: 1.365977742420561 ; out-sample error 1.6105216212771534\n",
      "item: 7000 ; in-sample error: 1.3646002419256382 ; out-sample error 1.610498692716404\n",
      "item: 7100 ; in-sample error: 1.3646002419256382 ; out-sample error 1.6104485616761974\n",
      "item: 7200 ; in-sample error: 1.3644032880521604 ; out-sample error 1.6104164255968914\n",
      "item: 7300 ; in-sample error: 1.3639156475593388 ; out-sample error 1.61031776460599\n",
      "item: 7400 ; in-sample error: 1.3638156855146155 ; out-sample error 1.6102164577499334\n",
      "item: 7500 ; in-sample error: 1.363321239073133 ; out-sample error 1.610148576138219\n",
      "item: 7600 ; in-sample error: 1.3632944856669438 ; out-sample error 1.6102037581098412\n",
      "item: 7700 ; in-sample error: 1.3630461456484693 ; out-sample error 1.609940271017905\n",
      "item: 7800 ; in-sample error: 1.362327659219286 ; out-sample error 1.6099382233618351\n",
      "item: 7900 ; in-sample error: 1.3621314494615775 ; out-sample error 1.609922126599683\n",
      "item: 8000 ; in-sample error: 1.3620355897493657 ; out-sample error 1.6098669797548595\n",
      "item: 8100 ; in-sample error: 1.361142834798214 ; out-sample error 1.6097267918403784\n"
     ]
    },
    {
     "name": "stdout",
     "output_type": "stream",
     "text": [
      "item: 8200 ; in-sample error: 1.3609792158529432 ; out-sample error 1.60973473179448\n",
      "item: 8300 ; in-sample error: 1.3607010040200567 ; out-sample error 1.6097353893203368\n",
      "item: 8400 ; in-sample error: 1.360048690026717 ; out-sample error 1.6096581116574131\n",
      "item: 8500 ; in-sample error: 1.3597489675750212 ; out-sample error 1.6096083293205639\n",
      "item: 8600 ; in-sample error: 1.358903093091816 ; out-sample error 1.6096590938060331\n",
      "item: 8700 ; in-sample error: 1.3580977833881158 ; out-sample error 1.6095208001791625\n",
      "item: 8800 ; in-sample error: 1.3575033155279166 ; out-sample error 1.609531095455086\n",
      "item: 8900 ; in-sample error: 1.3570088571813894 ; out-sample error 1.6094530701474652\n",
      "item: 9000 ; in-sample error: 1.356716845221982 ; out-sample error 1.6094536270152837\n",
      "item: 9100 ; in-sample error: 1.356675024142878 ; out-sample error 1.609298308295128\n",
      "item: 9200 ; in-sample error: 1.3562543661808006 ; out-sample error 1.6092427943387664\n",
      "item: 9300 ; in-sample error: 1.3555884408905923 ; out-sample error 1.6090416980883906\n",
      "item: 9400 ; in-sample error: 1.3553237194575734 ; out-sample error 1.608965694413842\n",
      "item: 9500 ; in-sample error: 1.355194106257975 ; out-sample error 1.6088885932661807\n",
      "item: 9600 ; in-sample error: 1.3549757171547592 ; out-sample error 1.6088583165551955\n",
      "item: 9700 ; in-sample error: 1.3549064427916975 ; out-sample error 1.6088605749894602\n",
      "\n",
      "epoch 1 : averge error(in): 1.3549064427916975 ; averge error(out): 1.6088605749894602 \n",
      "\n",
      "user: 100 ; in-sample error: 1.3425268823191012 ; out-sample error 1.5547270940894102\n",
      "user: 200 ; in-sample error: 1.2762139181745102 ; out-sample error 1.5195688034729744\n",
      "user: 300 ; in-sample error: 1.2762139181745102 ; out-sample error 1.4761427790604467\n",
      "user: 400 ; in-sample error: 1.155180451985643 ; out-sample error 1.4312260944092472\n",
      "user: 500 ; in-sample error: 1.0933937489069723 ; out-sample error 1.3831042027251248\n",
      "user: 600 ; in-sample error: 1.0933937489069723 ; out-sample error 1.3387041281802339\n",
      "item: 100 ; in-sample error: 1.0933188334077792 ; out-sample error 1.3354336141835097\n",
      "item: 200 ; in-sample error: 1.0932731960808924 ; out-sample error 1.3353756553943397\n",
      "item: 300 ; in-sample error: 1.092909169574067 ; out-sample error 1.3352933744723736\n",
      "item: 400 ; in-sample error: 1.0925542771444057 ; out-sample error 1.3352459722782666\n",
      "item: 500 ; in-sample error: 1.0925542771444057 ; out-sample error 1.3352287814110069\n",
      "item: 600 ; in-sample error: 1.0925542771444057 ; out-sample error 1.3352240177273609\n",
      "item: 700 ; in-sample error: 1.0919057884450374 ; out-sample error 1.3352147614556251\n",
      "item: 800 ; in-sample error: 1.0916567892426357 ; out-sample error 1.3352263640306674\n",
      "item: 900 ; in-sample error: 1.0916231789709976 ; out-sample error 1.3351717058632977\n",
      "item: 1000 ; in-sample error: 1.091532887591016 ; out-sample error 1.3351502156737574\n",
      "item: 1100 ; in-sample error: 1.0914104873897112 ; out-sample error 1.3350740441362288\n",
      "item: 1200 ; in-sample error: 1.0913303458896457 ; out-sample error 1.335031339664553\n",
      "item: 1300 ; in-sample error: 1.0910859799645498 ; out-sample error 1.3348893514968254\n",
      "item: 1400 ; in-sample error: 1.0909669357032663 ; out-sample error 1.3348896015553913\n",
      "item: 1500 ; in-sample error: 1.0908217024514124 ; out-sample error 1.3348112897404307\n",
      "item: 1600 ; in-sample error: 1.0908217024514124 ; out-sample error 1.3348062429240142\n",
      "item: 1700 ; in-sample error: 1.0908394949411038 ; out-sample error 1.3348516991449955\n",
      "item: 1800 ; in-sample error: 1.090738197223101 ; out-sample error 1.334844847736004\n",
      "item: 1900 ; in-sample error: 1.0906749329451177 ; out-sample error 1.3348108558187084\n",
      "item: 2000 ; in-sample error: 1.0904432872419605 ; out-sample error 1.3347975752465453\n",
      "item: 2100 ; in-sample error: 1.0903826782599053 ; out-sample error 1.3347727124771767\n",
      "item: 2200 ; in-sample error: 1.0903531282433108 ; out-sample error 1.3347322457426403\n",
      "item: 2300 ; in-sample error: 1.0903531282433108 ; out-sample error 1.3346951414327575\n",
      "item: 2400 ; in-sample error: 1.0901451817636811 ; out-sample error 1.3346905723575335\n",
      "item: 2500 ; in-sample error: 1.0900178377238112 ; out-sample error 1.3345620091277046\n",
      "item: 2600 ; in-sample error: 1.0899317243417939 ; out-sample error 1.3345495914513312\n",
      "item: 2700 ; in-sample error: 1.08984601335049 ; out-sample error 1.334523190074195\n",
      "item: 2800 ; in-sample error: 1.0895653045720701 ; out-sample error 1.3344972759577192\n",
      "item: 2900 ; in-sample error: 1.0895501179780835 ; out-sample error 1.3343878237904097\n",
      "item: 3000 ; in-sample error: 1.089461765043196 ; out-sample error 1.3343614806195168\n",
      "item: 3100 ; in-sample error: 1.089209527628874 ; out-sample error 1.3343614806195168\n",
      "item: 3200 ; in-sample error: 1.0888998245530375 ; out-sample error 1.334344352057008\n",
      "item: 3300 ; in-sample error: 1.088802721661351 ; out-sample error 1.3342466035675395\n",
      "item: 3400 ; in-sample error: 1.0887540065299728 ; out-sample error 1.3341698295582882\n",
      "item: 3500 ; in-sample error: 1.0886908402735385 ; out-sample error 1.3341320984335683\n",
      "item: 3600 ; in-sample error: 1.0886908402735385 ; out-sample error 1.3341153661023906\n",
      "item: 3700 ; in-sample error: 1.088592543458215 ; out-sample error 1.3341343925189193\n",
      "item: 3800 ; in-sample error: 1.0884824335152599 ; out-sample error 1.334073861045894\n",
      "item: 3900 ; in-sample error: 1.0882256014695422 ; out-sample error 1.3340149489288688\n",
      "item: 4000 ; in-sample error: 1.0879091069458862 ; out-sample error 1.3339557073140054\n",
      "item: 4100 ; in-sample error: 1.087836446499729 ; out-sample error 1.33394876076612\n",
      "item: 4200 ; in-sample error: 1.087751593498664 ; out-sample error 1.3338351308831289\n",
      "item: 4300 ; in-sample error: 1.0877244307641207 ; out-sample error 1.3338072025607262\n",
      "item: 4400 ; in-sample error: 1.0876809115627684 ; out-sample error 1.3338135150861972\n",
      "item: 4500 ; in-sample error: 1.0873296037505282 ; out-sample error 1.3337169083001303\n",
      "item: 4600 ; in-sample error: 1.0867976815691915 ; out-sample error 1.3335516855705278\n",
      "item: 4700 ; in-sample error: 1.0865813306638874 ; out-sample error 1.3335012815032634\n",
      "item: 4800 ; in-sample error: 1.086558858227937 ; out-sample error 1.3334052048670553\n",
      "item: 4900 ; in-sample error: 1.0864929753565318 ; out-sample error 1.3333888066520578\n",
      "item: 5000 ; in-sample error: 1.0864269580745936 ; out-sample error 1.3332733754935961\n",
      "item: 5100 ; in-sample error: 1.0861423410822557 ; out-sample error 1.3332657887984205\n",
      "item: 5200 ; in-sample error: 1.0860078632413954 ; out-sample error 1.3332029744929297\n",
      "item: 5300 ; in-sample error: 1.0858393954114312 ; out-sample error 1.3332119605655322\n",
      "item: 5400 ; in-sample error: 1.0855038264803722 ; out-sample error 1.3331878038059803\n",
      "item: 5500 ; in-sample error: 1.0851306939843048 ; out-sample error 1.3331380769221413\n",
      "item: 5600 ; in-sample error: 1.0848465233508415 ; out-sample error 1.3330875675031562\n",
      "item: 5700 ; in-sample error: 1.084541247654891 ; out-sample error 1.3330027833734102\n",
      "item: 5800 ; in-sample error: 1.0842570032959704 ; out-sample error 1.3328142673981584\n",
      "item: 5900 ; in-sample error: 1.0842174586051612 ; out-sample error 1.3327594250064907\n",
      "item: 6000 ; in-sample error: 1.084166944450416 ; out-sample error 1.3327910333088322\n",
      "item: 6100 ; in-sample error: 1.0839910472668277 ; out-sample error 1.3327867718228512\n",
      "item: 6200 ; in-sample error: 1.083859181588346 ; out-sample error 1.3327467159130495\n",
      "item: 6300 ; in-sample error: 1.0837657365442956 ; out-sample error 1.3327536715088906\n",
      "item: 6400 ; in-sample error: 1.083733786734769 ; out-sample error 1.3327286893307098\n",
      "item: 6500 ; in-sample error: 1.0837300437317696 ; out-sample error 1.3327109360169058\n",
      "item: 6600 ; in-sample error: 1.0837123392883503 ; out-sample error 1.3326558919415996\n",
      "item: 6700 ; in-sample error: 1.0834615521141675 ; out-sample error 1.3326282515535042\n",
      "item: 6800 ; in-sample error: 1.0834346142480389 ; out-sample error 1.332628520121519\n",
      "item: 6900 ; in-sample error: 1.0833803458257907 ; out-sample error 1.3325898636728783\n",
      "item: 7000 ; in-sample error: 1.0832429680833877 ; out-sample error 1.3325903820540104\n",
      "item: 7100 ; in-sample error: 1.0829330596389601 ; out-sample error 1.332570944708859\n",
      "item: 7200 ; in-sample error: 1.0827653910427832 ; out-sample error 1.3324872062503557\n"
     ]
    },
    {
     "name": "stdout",
     "output_type": "stream",
     "text": [
      "item: 7300 ; in-sample error: 1.0827751459611823 ; out-sample error 1.3324512393195145\n",
      "item: 7400 ; in-sample error: 1.0827336658040694 ; out-sample error 1.3324504334050722\n",
      "item: 7500 ; in-sample error: 1.0827421184751602 ; out-sample error 1.3324341473853318\n",
      "item: 7600 ; in-sample error: 1.0827314371117394 ; out-sample error 1.3323931921100152\n",
      "item: 7700 ; in-sample error: 1.0826534135415238 ; out-sample error 1.3322522308272682\n",
      "item: 7800 ; in-sample error: 1.082406740950861 ; out-sample error 1.332241602166176\n",
      "item: 7900 ; in-sample error: 1.082220834571405 ; out-sample error 1.3321933810464013\n",
      "item: 8000 ; in-sample error: 1.0821633460611926 ; out-sample error 1.3321671259797785\n",
      "item: 8100 ; in-sample error: 1.082108219471002 ; out-sample error 1.332133921622371\n",
      "item: 8200 ; in-sample error: 1.0817118304327344 ; out-sample error 1.331951458027721\n",
      "item: 8300 ; in-sample error: 1.081657059508108 ; out-sample error 1.3319664937391418\n",
      "item: 8400 ; in-sample error: 1.0815950235529639 ; out-sample error 1.331966016428718\n",
      "item: 8500 ; in-sample error: 1.0815950235529639 ; out-sample error 1.3319504051344613\n",
      "item: 8600 ; in-sample error: 1.0814862914012735 ; out-sample error 1.3319259176397014\n",
      "item: 8700 ; in-sample error: 1.081377594269444 ; out-sample error 1.3319287652319627\n",
      "item: 8800 ; in-sample error: 1.081323076644734 ; out-sample error 1.3318995122623751\n",
      "item: 8900 ; in-sample error: 1.0813154987773013 ; out-sample error 1.331796548288108\n",
      "item: 9000 ; in-sample error: 1.0813154987773013 ; out-sample error 1.3317399844570597\n",
      "item: 9100 ; in-sample error: 1.0811750409594014 ; out-sample error 1.3317093682725654\n",
      "item: 9200 ; in-sample error: 1.0810529116628655 ; out-sample error 1.3316099357884301\n",
      "item: 9300 ; in-sample error: 1.0802786765066317 ; out-sample error 1.3315872156314885\n",
      "item: 9400 ; in-sample error: 1.0799765628738291 ; out-sample error 1.3315677024816748\n",
      "item: 9500 ; in-sample error: 1.079585494684345 ; out-sample error 1.3314802647976816\n",
      "item: 9600 ; in-sample error: 1.0795219509514442 ; out-sample error 1.3314503427223117\n",
      "item: 9700 ; in-sample error: 1.0792381805113025 ; out-sample error 1.331450325304804\n",
      "\n",
      "epoch 2 : averge error(in): 1.079185529814846 ; averge error(out): 1.331450325304804 \n",
      "\n",
      "user: 100 ; in-sample error: 1.0577686891400526 ; out-sample error 1.312927062656458\n",
      "user: 200 ; in-sample error: 1.0398280890117868 ; out-sample error 1.2838088531153888\n",
      "user: 300 ; in-sample error: 1.0297243274518602 ; out-sample error 1.254904476508541\n",
      "user: 400 ; in-sample error: 1.00599356719779 ; out-sample error 1.2337764755291074\n",
      "user: 500 ; in-sample error: 0.9783777007131247 ; out-sample error 1.2091425058073082\n",
      "user: 600 ; in-sample error: 0.9544508730273393 ; out-sample error 1.1802685667641568\n",
      "item: 100 ; in-sample error: 0.9389325658878322 ; out-sample error 1.1778638642288317\n",
      "item: 200 ; in-sample error: 0.9386654578660044 ; out-sample error 1.1777901351814881\n",
      "item: 300 ; in-sample error: 0.9386467619450819 ; out-sample error 1.1777516642749644\n",
      "item: 400 ; in-sample error: 0.9386205483100382 ; out-sample error 1.177703937745394\n",
      "item: 500 ; in-sample error: 0.9385720452167988 ; out-sample error 1.1776383679413331\n",
      "item: 600 ; in-sample error: 0.9385720452167988 ; out-sample error 1.1775958539659863\n",
      "item: 700 ; in-sample error: 0.9384492902867375 ; out-sample error 1.177581179270906\n",
      "item: 800 ; in-sample error: 0.9384291136541952 ; out-sample error 1.1775677616337734\n",
      "item: 900 ; in-sample error: 0.9383414750874766 ; out-sample error 1.1776013575009174\n",
      "item: 1000 ; in-sample error: 0.9383364406776311 ; out-sample error 1.1775888882198198\n",
      "item: 1100 ; in-sample error: 0.9383147190982093 ; out-sample error 1.1775757631056092\n",
      "item: 1200 ; in-sample error: 0.9382864220840077 ; out-sample error 1.177558762952042\n",
      "item: 1300 ; in-sample error: 0.9382077566124236 ; out-sample error 1.1775438381051329\n",
      "item: 1400 ; in-sample error: 0.9381467428697338 ; out-sample error 1.1774560645482959\n",
      "item: 1500 ; in-sample error: 0.9380932452179434 ; out-sample error 1.1774695355331726\n",
      "item: 1600 ; in-sample error: 0.9380514787476435 ; out-sample error 1.1774007198077907\n",
      "item: 1700 ; in-sample error: 0.9380006225448798 ; out-sample error 1.1773528633618762\n",
      "item: 1800 ; in-sample error: 0.9379686385168479 ; out-sample error 1.1773124869877427\n",
      "item: 1900 ; in-sample error: 0.9378422281309164 ; out-sample error 1.1772474543563787\n",
      "item: 2000 ; in-sample error: 0.937794797349635 ; out-sample error 1.1772524251844347\n",
      "item: 2100 ; in-sample error: 0.9376717058482706 ; out-sample error 1.1772188436441078\n",
      "item: 2200 ; in-sample error: 0.9376357507579031 ; out-sample error 1.177215292356101\n",
      "item: 2300 ; in-sample error: 0.9375921225197639 ; out-sample error 1.1772179160554357\n",
      "item: 2400 ; in-sample error: 0.9375416870805048 ; out-sample error 1.1772004786026118\n",
      "item: 2500 ; in-sample error: 0.9375338394503462 ; out-sample error 1.1771786100650683\n",
      "item: 2600 ; in-sample error: 0.9375393949265071 ; out-sample error 1.1771493723250976\n",
      "item: 2700 ; in-sample error: 0.9375447366947577 ; out-sample error 1.1771560356410498\n",
      "item: 2800 ; in-sample error: 0.9374377781077118 ; out-sample error 1.1771374561368102\n",
      "item: 2900 ; in-sample error: 0.9372351500248028 ; out-sample error 1.1771385320658703\n",
      "item: 3000 ; in-sample error: 0.9370779733547581 ; out-sample error 1.1771133334720827\n",
      "item: 3100 ; in-sample error: 0.9370460708793406 ; out-sample error 1.1771084778068217\n",
      "item: 3200 ; in-sample error: 0.9370402663322749 ; out-sample error 1.1771088762287465\n",
      "item: 3300 ; in-sample error: 0.9370386703002433 ; out-sample error 1.1771244985539038\n",
      "item: 3400 ; in-sample error: 0.937032086650515 ; out-sample error 1.1771665804713918\n",
      "item: 3500 ; in-sample error: 0.9370306264461712 ; out-sample error 1.177160903219286\n",
      "item: 3600 ; in-sample error: 0.9369913123529858 ; out-sample error 1.1771603195155518\n",
      "item: 3700 ; in-sample error: 0.9369135878364369 ; out-sample error 1.1770523662024888\n",
      "item: 3800 ; in-sample error: 0.9369059763604258 ; out-sample error 1.1770030513683327\n",
      "item: 3900 ; in-sample error: 0.93657212624192 ; out-sample error 1.1769706052269737\n",
      "item: 4000 ; in-sample error: 0.9365554758097018 ; out-sample error 1.176964308389001\n",
      "item: 4100 ; in-sample error: 0.9364720779395855 ; out-sample error 1.176909831673766\n",
      "item: 4200 ; in-sample error: 0.9364696692208035 ; out-sample error 1.176909831673766\n",
      "item: 4300 ; in-sample error: 0.9363987492986793 ; out-sample error 1.1769067104341109\n",
      "item: 4400 ; in-sample error: 0.9363544022238514 ; out-sample error 1.1769026522014412\n",
      "item: 4500 ; in-sample error: 0.9363450760155887 ; out-sample error 1.1769064691471949\n",
      "item: 4600 ; in-sample error: 0.9362574143893556 ; out-sample error 1.1769223233599517\n",
      "item: 4700 ; in-sample error: 0.9361267339074514 ; out-sample error 1.1768980459064264\n",
      "item: 4800 ; in-sample error: 0.9360804239442824 ; out-sample error 1.1769415905044185\n",
      "item: 4900 ; in-sample error: 0.9360626063349954 ; out-sample error 1.1769135615838526\n",
      "item: 5000 ; in-sample error: 0.9360309861738481 ; out-sample error 1.1768942253059622\n",
      "item: 5100 ; in-sample error: 0.9360105034779795 ; out-sample error 1.1768456634023627\n",
      "item: 5200 ; in-sample error: 0.9359685400654387 ; out-sample error 1.1768594293346282\n",
      "item: 5300 ; in-sample error: 0.9358596524521342 ; out-sample error 1.1768628647511454\n",
      "item: 5400 ; in-sample error: 0.9358210735435716 ; out-sample error 1.1768897599981125\n",
      "item: 5500 ; in-sample error: 0.9356910735232475 ; out-sample error 1.1768477464711564\n",
      "item: 5600 ; in-sample error: 0.9356113724848404 ; out-sample error 1.176828482442836\n",
      "item: 5700 ; in-sample error: 0.9355708468143065 ; out-sample error 1.1768167405506897\n",
      "item: 5800 ; in-sample error: 0.9355691294950916 ; out-sample error 1.1767223355170346\n",
      "item: 5900 ; in-sample error: 0.9354898077076929 ; out-sample error 1.1767013140725597\n",
      "item: 6000 ; in-sample error: 0.9353169816157418 ; out-sample error 1.1766727082264181\n",
      "item: 6100 ; in-sample error: 0.9351131610469071 ; out-sample error 1.1765984274700678\n",
      "item: 6200 ; in-sample error: 0.9351131610469071 ; out-sample error 1.1765957854695706\n",
      "item: 6300 ; in-sample error: 0.9350287463560253 ; out-sample error 1.1765678870613416\n"
     ]
    },
    {
     "name": "stdout",
     "output_type": "stream",
     "text": [
      "item: 6400 ; in-sample error: 0.9350263231733696 ; out-sample error 1.1765717075151065\n",
      "item: 6500 ; in-sample error: 0.9349784444719245 ; out-sample error 1.1765549299124096\n",
      "item: 6600 ; in-sample error: 0.9349105310283782 ; out-sample error 1.1765641056179565\n",
      "item: 6700 ; in-sample error: 0.9347532945630195 ; out-sample error 1.1765317923537508\n",
      "item: 6800 ; in-sample error: 0.9346866883269064 ; out-sample error 1.1765037377748637\n",
      "item: 6900 ; in-sample error: 0.9346724089665819 ; out-sample error 1.1764691760167005\n",
      "item: 7000 ; in-sample error: 0.9346374556654434 ; out-sample error 1.1764602690541777\n",
      "item: 7100 ; in-sample error: 0.9346157541726443 ; out-sample error 1.1764550223303931\n",
      "item: 7200 ; in-sample error: 0.9346157541726443 ; out-sample error 1.1764431115995784\n",
      "item: 7300 ; in-sample error: 0.9345530502712762 ; out-sample error 1.1764218512436102\n",
      "item: 7400 ; in-sample error: 0.9344984606864051 ; out-sample error 1.1763747323765366\n",
      "item: 7500 ; in-sample error: 0.9344419454930606 ; out-sample error 1.1763950334579878\n",
      "item: 7600 ; in-sample error: 0.9344012056209929 ; out-sample error 1.176401670442546\n",
      "item: 7700 ; in-sample error: 0.9343352169852848 ; out-sample error 1.1763947721702803\n",
      "item: 7800 ; in-sample error: 0.9343352169852848 ; out-sample error 1.1763898387440932\n",
      "item: 7900 ; in-sample error: 0.9341630133563207 ; out-sample error 1.1763628032122266\n",
      "item: 8000 ; in-sample error: 0.9339703977470336 ; out-sample error 1.1763207981968105\n",
      "item: 8100 ; in-sample error: 0.933904504226584 ; out-sample error 1.176269695284863\n",
      "item: 8200 ; in-sample error: 0.9338275345160594 ; out-sample error 1.1762381772246622\n",
      "item: 8300 ; in-sample error: 0.9338407923178342 ; out-sample error 1.1761936145188199\n",
      "item: 8400 ; in-sample error: 0.9337473980420496 ; out-sample error 1.1761498592566653\n",
      "item: 8500 ; in-sample error: 0.9336302661748747 ; out-sample error 1.1761294360319476\n",
      "item: 8600 ; in-sample error: 0.9334368878219502 ; out-sample error 1.1761565628325157\n",
      "item: 8700 ; in-sample error: 0.9332029857531827 ; out-sample error 1.1761250537559045\n",
      "item: 8800 ; in-sample error: 0.9329766560151495 ; out-sample error 1.1761063151581272\n",
      "item: 8900 ; in-sample error: 0.9329416469968039 ; out-sample error 1.1760689151217893\n",
      "item: 9000 ; in-sample error: 0.9328024523106422 ; out-sample error 1.175979461915852\n",
      "item: 9100 ; in-sample error: 0.9327527728341384 ; out-sample error 1.1759787821168772\n",
      "item: 9200 ; in-sample error: 0.932704978494708 ; out-sample error 1.1759086119300823\n",
      "item: 9300 ; in-sample error: 0.9326628785217266 ; out-sample error 1.1759181069250573\n",
      "item: 9400 ; in-sample error: 0.9326197072456179 ; out-sample error 1.1758789108952268\n",
      "item: 9500 ; in-sample error: 0.9326146324019319 ; out-sample error 1.1759042380187226\n",
      "item: 9600 ; in-sample error: 0.9325600924266643 ; out-sample error 1.1758434143764034\n",
      "item: 9700 ; in-sample error: 0.9325152724420676 ; out-sample error 1.175846028949007\n",
      "\n",
      "epoch 3 : averge error(in): 0.9324690102674399 ; averge error(out): 1.1758212444370657 \n",
      "\n",
      "user: 100 ; in-sample error: 0.898005082640737 ; out-sample error 1.168276413632588\n",
      "user: 200 ; in-sample error: 0.8739027222294701 ; out-sample error 1.146508854996844\n",
      "user: 300 ; in-sample error: 0.8739027222294701 ; out-sample error 1.1353901640558213\n",
      "user: 400 ; in-sample error: 0.865197418176687 ; out-sample error 1.121129535920154\n",
      "user: 500 ; in-sample error: 0.865197418176687 ; out-sample error 1.109785153917822\n",
      "user: 600 ; in-sample error: 0.8636672605659982 ; out-sample error 1.0827259289339255\n",
      "item: 100 ; in-sample error: 0.8636672605659982 ; out-sample error 1.0781922085047209\n",
      "item: 200 ; in-sample error: 0.8636541319813145 ; out-sample error 1.0781867314290774\n",
      "item: 300 ; in-sample error: 0.8636042051162789 ; out-sample error 1.0781820336882237\n",
      "item: 400 ; in-sample error: 0.8635450830418223 ; out-sample error 1.0781406685508397\n",
      "item: 500 ; in-sample error: 0.8635531707746443 ; out-sample error 1.0781316484079937\n",
      "item: 600 ; in-sample error: 0.8634935447542615 ; out-sample error 1.0781333898451761\n",
      "item: 700 ; in-sample error: 0.863448254746943 ; out-sample error 1.078100490578027\n",
      "item: 800 ; in-sample error: 0.8633047242170983 ; out-sample error 1.0780318540391052\n",
      "item: 900 ; in-sample error: 0.8632728972222462 ; out-sample error 1.0780139305590133\n",
      "item: 1000 ; in-sample error: 0.8631445710016956 ; out-sample error 1.0780000833882648\n",
      "item: 1100 ; in-sample error: 0.8631013948840117 ; out-sample error 1.0780059965657065\n",
      "item: 1200 ; in-sample error: 0.8631040738280855 ; out-sample error 1.077979233523507\n",
      "item: 1300 ; in-sample error: 0.8630880047955731 ; out-sample error 1.0779715036976314\n",
      "item: 1400 ; in-sample error: 0.8630848334778569 ; out-sample error 1.077971040307674\n"
     ]
    }
   ],
   "source": [
    "for epoch in range(EPOCH):\n",
    "    lis_user = list(range(n_user))\n",
    "    lis_item = list(range(n_item))\n",
    "    random.shuffle(lis_user)\n",
    "    random.shuffle(lis_item)\n",
    "    count = 0\n",
    "    \n",
    "    for i in lis_user:\n",
    "        grad = gradient_user(i, alpha, lmd)\n",
    "        update_user(i, -1)\n",
    "        user_vecs[i] -= lr * grad\n",
    "        update_user(i, 1)\n",
    "        \n",
    "        if count % 100 == 99:\n",
    "            print(\"user:\", count+1, \"; in-sample error:\", cal_insample_acc(n_test), \"; out-sample error\", cal_acc(n_test))\n",
    "        count += 1\n",
    "    \n",
    "    count = 0\n",
    "    \n",
    "    for i in lis_item:\n",
    "        grad = gradient_item(i, alpha, lmd)\n",
    "        update_item(i, -1)\n",
    "        item_vecs[i] -= lr * grad\n",
    "        update_item(i, 1)\n",
    "        \n",
    "        if count % 100 == 99:\n",
    "            print(\"item:\", count+1, \"; in-sample error:\", cal_insample_acc(n_test), \"; out-sample error\", cal_acc(n_test))\n",
    "        count += 1\n",
    "    \n",
    "    loss_time = time.time()\n",
    "    # loss = 0\n",
    "    # loss = cal_loss()\n",
    "    # losses.append(loss)\n",
    "    cal_loss_time += time.time() - loss_time\n",
    "    \n",
    "    acc_time = time.time()\n",
    "    in_acc = cal_insample_acc(n_test)\n",
    "    out_acc = cal_acc(n_test)\n",
    "    in_accs.append(in_acc)\n",
    "    out_accs.append(out_acc)\n",
    "    cal_acc_time += time.time() - acc_time\n",
    "    \n",
    "    print(\"\\nepoch\", epoch, \": averge error(in):\", in_acc, \"; averge error(out):\", out_acc, \"\\n\")\n",
    "\n",
    "print(\"total training time:\", time.time()-start_train_time)\n",
    "print(\"cal loss time:\", cal_loss_time)\n",
    "print(\"cal accuracy time:\", cal_acc_time)"
   ]
  },
  {
   "cell_type": "markdown",
   "metadata": {},
   "source": [
    "### test performance (out-sample)"
   ]
  },
  {
   "cell_type": "code",
   "execution_count": null,
   "metadata": {},
   "outputs": [],
   "source": [
    "predict = []\n",
    "rates = []\n",
    "\n",
    "for i in range(n_test):\n",
    "    rates.append(1.0)\n",
    "    predict.append(dot(user_vecs[test[i][0]], item_vecs[test[i][1]]))"
   ]
  },
  {
   "cell_type": "code",
   "execution_count": null,
   "metadata": {},
   "outputs": [],
   "source": [
    "for i in range(30):\n",
    "    print(\"ans:\", rates[i], \"; predict:\", predict[i])"
   ]
  },
  {
   "cell_type": "code",
   "execution_count": null,
   "metadata": {},
   "outputs": [],
   "source": [
    "error = 0.0\n",
    "\n",
    "for i in range(n_test):\n",
    "    error += abs(rates[i] - predict[i])**2\n",
    "    \n",
    "print(\"averge error:\", error / n_test)"
   ]
  },
  {
   "cell_type": "code",
   "execution_count": null,
   "metadata": {},
   "outputs": [],
   "source": [
    "rating_list = [] # rating list for each user in training and updating data\n",
    "\n",
    "for _ in range(n_user):\n",
    "    rating_list.append([])\n",
    "\n",
    "for row in train:\n",
    "    rating_list[row[0]].append(row[1])"
   ]
  },
  {
   "cell_type": "code",
   "execution_count": null,
   "metadata": {},
   "outputs": [],
   "source": [
    "not_rating_list = [] # rating list for each user not rating yet\n",
    "\n",
    "for i in range(n_user):\n",
    "    not_rating_list.append([])\n",
    "    for j in range(n_item):\n",
    "        if j not in rating_list[i]:\n",
    "            not_rating_list[i].append(j)"
   ]
  },
  {
   "cell_type": "code",
   "execution_count": null,
   "metadata": {},
   "outputs": [],
   "source": [
    "def take_value(elem):\n",
    "    return elem[1]\n",
    "\n",
    "top_n = []\n",
    "\n",
    "for i in range(n_user):\n",
    "    tmp = []\n",
    "    for j in not_rating_list[i]:\n",
    "        tmp.append([item_dict_2[j], dot(user_vecs[i], item_vecs[j])])\n",
    "    tmp.sort(key = take_value)\n",
    "    top_n.append(tmp[:100])"
   ]
  },
  {
   "cell_type": "code",
   "execution_count": null,
   "metadata": {},
   "outputs": [],
   "source": [
    "with open(\"predict_offline.csv\", \"w\", newline = \"\") as f:\n",
    "    w = csv.writer(f)\n",
    "    \n",
    "    for i in range(n_user):\n",
    "        row = []\n",
    "        row.append(user_dict_2[i])\n",
    "        for item in top_n[i]:\n",
    "            row.append(item[0])\n",
    "        w.writerow(row)"
   ]
  },
  {
   "cell_type": "markdown",
   "metadata": {},
   "source": [
    "### test performance (in-sample)"
   ]
  },
  {
   "cell_type": "code",
   "execution_count": 43,
   "metadata": {},
   "outputs": [],
   "source": [
    "predict = []\n",
    "rates = []\n",
    "\n",
    "for i in range(n_train):\n",
    "    rates.append(1.0)\n",
    "    predict.append(dot(user_vecs[train[i][0]], item_vecs[train[i][1]]))"
   ]
  },
  {
   "cell_type": "code",
   "execution_count": 44,
   "metadata": {},
   "outputs": [
    {
     "name": "stdout",
     "output_type": "stream",
     "text": [
      "ans: 1.0 ; predict: 0.5523556968748948\n",
      "ans: 1.0 ; predict: 0.749103464834057\n",
      "ans: 1.0 ; predict: 0.5649398089746898\n",
      "ans: 1.0 ; predict: 0.775303885527917\n",
      "ans: 1.0 ; predict: 0.34567286923268453\n",
      "ans: 1.0 ; predict: 0.30218174439522916\n",
      "ans: 1.0 ; predict: 0.38120942807761193\n",
      "ans: 1.0 ; predict: 0.21369758870033392\n",
      "ans: 1.0 ; predict: 0.4219488347352153\n",
      "ans: 1.0 ; predict: 0.7294240961456246\n",
      "ans: 1.0 ; predict: 0.42000137304405133\n",
      "ans: 1.0 ; predict: 0.5453750622201439\n",
      "ans: 1.0 ; predict: 0.4832363495896579\n",
      "ans: 1.0 ; predict: 0.5398958290415744\n",
      "ans: 1.0 ; predict: 0.6398563254804356\n",
      "ans: 1.0 ; predict: 0.3370545480941776\n",
      "ans: 1.0 ; predict: 0.7017265134612004\n",
      "ans: 1.0 ; predict: 0.6524525456189196\n",
      "ans: 1.0 ; predict: 0.6526618537152536\n",
      "ans: 1.0 ; predict: 0.4555582244692692\n",
      "ans: 1.0 ; predict: 0.583931460216683\n",
      "ans: 1.0 ; predict: 0.45311413546391627\n",
      "ans: 1.0 ; predict: 0.42726126844832596\n",
      "ans: 1.0 ; predict: 0.4064266406365496\n",
      "ans: 1.0 ; predict: 0.24745205171367918\n",
      "ans: 1.0 ; predict: 0.4933869984666583\n",
      "ans: 1.0 ; predict: 0.5819781364207919\n",
      "ans: 1.0 ; predict: 0.40883242845231643\n",
      "ans: 1.0 ; predict: 0.4039350029855763\n",
      "ans: 1.0 ; predict: 0.5077435672511417\n"
     ]
    }
   ],
   "source": [
    "for i in range(30):\n",
    "    print(\"ans:\", rates[i], \"; predict:\", predict[i])"
   ]
  },
  {
   "cell_type": "code",
   "execution_count": 45,
   "metadata": {},
   "outputs": [
    {
     "name": "stdout",
     "output_type": "stream",
     "text": [
      "averge error: 0.40141935283181496\n"
     ]
    }
   ],
   "source": [
    "error = 0.0\n",
    "\n",
    "for i in range(n_train):\n",
    "    error += abs(rates[i] - predict[i])**2\n",
    "    \n",
    "print(\"averge error:\", error / n_train)"
   ]
  },
  {
   "cell_type": "markdown",
   "metadata": {},
   "source": [
    "### plot"
   ]
  },
  {
   "cell_type": "code",
   "execution_count": 46,
   "metadata": {},
   "outputs": [],
   "source": [
    "import matplotlib.pyplot as plt"
   ]
  },
  {
   "cell_type": "code",
   "execution_count": null,
   "metadata": {},
   "outputs": [],
   "source": [
    "# plt.plot(losses)\n",
    "# plt.xlabel(\"epoch\")\n",
    "# plt.ylabel(\"loss\")\n",
    "# plt.show()"
   ]
  },
  {
   "cell_type": "code",
   "execution_count": 47,
   "metadata": {},
   "outputs": [
    {
     "data": {
      "image/png": "[encoded data removed]",
      "text/plain": [
       "<Figure size 432x288 with 1 Axes>"
      ]
     },
     "metadata": {
      "needs_background": "light"
     },
     "output_type": "display_data"
    }
   ],
   "source": [
    "plt.plot(in_accs)\n",
    "plt.plot(out_accs)\n",
    "plt.xlabel(\"epoch\")\n",
    "plt.ylabel(\"error\")\n",
    "plt.show()"
   ]
  }
 ],
 "metadata": {
  "kernelspec": {
   "display_name": "Python 3",
   "language": "python",
   "name": "python3"
  },
  "language_info": {
   "codemirror_mode": {
    "name": "ipython",
    "version": 3
   },
   "file_extension": ".py",
   "mimetype": "text/x-python",
   "name": "python",
   "nbconvert_exporter": "python",
   "pygments_lexer": "ipython3",
   "version": "3.7.3"
  }
 },
 "nbformat": 4,
 "nbformat_minor": 2
}
