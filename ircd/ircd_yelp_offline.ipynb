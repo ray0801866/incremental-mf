{
 "cells": [
  {
   "cell_type": "markdown",
   "metadata": {},
   "source": [
    "## Ref"
   ]
  },
  {
   "cell_type": "markdown",
   "metadata": {},
   "source": [
    "+ Dynamic Matrix Factorization with Priors on Unknown Values\n",
    "+ https://arxiv.org/pdf/1507.06452.pdf"
   ]
  },
  {
   "cell_type": "markdown",
   "metadata": {},
   "source": [
    "### imports"
   ]
  },
  {
   "cell_type": "code",
   "execution_count": 1,
   "metadata": {},
   "outputs": [],
   "source": [
    "import numpy as np\n",
    "import csv\n",
    "import random\n",
    "import time\n",
    "import copy\n",
    "import pickle"
   ]
  },
  {
   "cell_type": "markdown",
   "metadata": {},
   "source": [
    "### Load data"
   ]
  },
  {
   "cell_type": "code",
   "execution_count": 5,
   "metadata": {},
   "outputs": [],
   "source": [
    "train = []\n",
    "update = []\n",
    "test = []\n",
    "\n",
    "with open(\"yelp_offline_train.csv\", newline = \"\") as f:\n",
    "    rows = csv.reader(f)\n",
    "    for row in rows:\n",
    "        if row[0] == \"user_id\":\n",
    "            continue\n",
    "        train.append(row)\n",
    "        \n",
    "with open(\"yelp_offline_test.csv\", newline = \"\") as f:\n",
    "    rows = csv.reader(f)\n",
    "    for row in rows:\n",
    "        if row[0] == \"user_id\":\n",
    "            continue\n",
    "        test.append(row)"
   ]
  },
  {
   "cell_type": "code",
   "execution_count": 6,
   "metadata": {},
   "outputs": [
    {
     "data": {
      "text/plain": [
       "[['0', '11768', '20100822'],\n",
       " ['0', '6106', '20101224'],\n",
       " ['0', '11414', '20110101'],\n",
       " ['0', '1756', '20110102'],\n",
       " ['0', '8027', '20110116']]"
      ]
     },
     "execution_count": 6,
     "metadata": {},
     "output_type": "execute_result"
    }
   ],
   "source": [
    "train[:5]"
   ]
  },
  {
   "cell_type": "code",
   "execution_count": 7,
   "metadata": {},
   "outputs": [
    {
     "data": {
      "text/plain": [
       "[['0', '4089', '20141204'],\n",
       " ['1', '1020', '20140913'],\n",
       " ['2', '21626', '20141013'],\n",
       " ['3', '18704', '20140403'],\n",
       " ['4', '6835', '20141003']]"
      ]
     },
     "execution_count": 7,
     "metadata": {},
     "output_type": "execute_result"
    }
   ],
   "source": [
    "test[:5]"
   ]
  },
  {
   "cell_type": "code",
   "execution_count": 8,
   "metadata": {},
   "outputs": [],
   "source": [
    "user_dict = {}\n",
    "item_dict = {}\n",
    "user_count = 0\n",
    "item_count = 0\n",
    "\n",
    "for row in train:\n",
    "    if row[0] not in user_dict:\n",
    "        user_dict[row[0]] = user_count\n",
    "        user_count += 1\n",
    "    if row[1] not in item_dict:\n",
    "        item_dict[row[1]] = item_count\n",
    "        item_count += 1\n",
    "        \n",
    "for row in test:\n",
    "    if row[0] not in user_dict:\n",
    "        user_dict[row[0]] = user_count\n",
    "        user_count += 1\n",
    "    if row[1] not in item_dict:\n",
    "        item_dict[row[1]] = item_count\n",
    "        item_count += 1"
   ]
  },
  {
   "cell_type": "code",
   "execution_count": 9,
   "metadata": {},
   "outputs": [],
   "source": [
    "user_dict_2 = {}\n",
    "item_dict_2 = {}\n",
    "\n",
    "for user in user_dict:\n",
    "    user_dict_2[user_dict[user]] = user\n",
    "for item in item_dict:\n",
    "    item_dict_2[item_dict[item]] = item"
   ]
  },
  {
   "cell_type": "code",
   "execution_count": 10,
   "metadata": {},
   "outputs": [],
   "source": [
    "for row in train:\n",
    "    row[0] = user_dict[row[0]]\n",
    "    row[1] = item_dict[row[1]]\n",
    "    \n",
    "for row in test:\n",
    "    row[0] = user_dict[row[0]]\n",
    "    row[1] = item_dict[row[1]]"
   ]
  },
  {
   "cell_type": "code",
   "execution_count": 11,
   "metadata": {},
   "outputs": [
    {
     "data": {
      "text/plain": [
       "[[0, 0, '20100822'],\n",
       " [0, 1, '20101224'],\n",
       " [0, 2, '20110101'],\n",
       " [0, 3, '20110102'],\n",
       " [0, 4, '20110116']]"
      ]
     },
     "execution_count": 11,
     "metadata": {},
     "output_type": "execute_result"
    }
   ],
   "source": [
    "train[:5]"
   ]
  },
  {
   "cell_type": "code",
   "execution_count": 12,
   "metadata": {},
   "outputs": [
    {
     "data": {
      "text/plain": [
       "[[0, 10915, '20141204'],\n",
       " [1, 1822, '20140913'],\n",
       " [2, 487, '20141013'],\n",
       " [3, 165, '20140403'],\n",
       " [4, 8761, '20141003']]"
      ]
     },
     "execution_count": 12,
     "metadata": {},
     "output_type": "execute_result"
    }
   ],
   "source": [
    "test[:5]"
   ]
  },
  {
   "cell_type": "markdown",
   "metadata": {},
   "source": [
    "### data size"
   ]
  },
  {
   "cell_type": "code",
   "execution_count": 13,
   "metadata": {},
   "outputs": [
    {
     "name": "stdout",
     "output_type": "stream",
     "text": [
      "number of ratings: 848494\n",
      "n_user: 30407\n",
      "n_item: 22676\n"
     ]
    }
   ],
   "source": [
    "n_user = len(user_dict)\n",
    "n_item = len(item_dict)\n",
    "n_rating = len(train)\n",
    "\n",
    "print(\"number of ratings:\", n_rating)\n",
    "print(\"n_user:\", n_user)\n",
    "print(\"n_item:\", n_item)"
   ]
  },
  {
   "cell_type": "markdown",
   "metadata": {},
   "source": [
    "### number of training and updating"
   ]
  },
  {
   "cell_type": "code",
   "execution_count": 14,
   "metadata": {},
   "outputs": [
    {
     "name": "stdout",
     "output_type": "stream",
     "text": [
      "n_train: 848494\n",
      "n_test: 30407\n"
     ]
    }
   ],
   "source": [
    "n_train = len(train)\n",
    "n_test = len(test)\n",
    "\n",
    "print(\"n_train:\", n_train)\n",
    "print(\"n_test:\", n_test)"
   ]
  },
  {
   "cell_type": "markdown",
   "metadata": {},
   "source": [
    "### construct rating matrix"
   ]
  },
  {
   "cell_type": "code",
   "execution_count": 15,
   "metadata": {},
   "outputs": [],
   "source": [
    "ratings = []\n",
    "zeros = np.zeros(n_item)\n",
    "\n",
    "for _ in range(n_user):\n",
    "    ratings.append(zeros.copy())\n",
    "    \n",
    "for i in range(n_train):\n",
    "    ratings[train[i][0]][train[i][1]] = 1.0"
   ]
  },
  {
   "cell_type": "code",
   "execution_count": 16,
   "metadata": {},
   "outputs": [
    {
     "data": {
      "text/plain": [
       "array([ 1.,  1.,  1.,  1.,  1.,  1.,  1.,  1.,  1.,  1.])"
      ]
     },
     "execution_count": 16,
     "metadata": {},
     "output_type": "execute_result"
    }
   ],
   "source": [
    "ratings[0][:10]"
   ]
  },
  {
   "cell_type": "markdown",
   "metadata": {},
   "source": [
    "### list rated movies for each user & for each movie"
   ]
  },
  {
   "cell_type": "code",
   "execution_count": 17,
   "metadata": {},
   "outputs": [],
   "source": [
    "rate_lists_user = []\n",
    "rate_lists_item = []\n",
    "\n",
    "for i in range(n_user):\n",
    "    tmp = []\n",
    "    for j in range(n_item):\n",
    "        if ratings[i][j] > 0.1:\n",
    "            tmp.append(j)\n",
    "    rate_lists_user.append(tmp.copy())\n",
    "    \n",
    "for i in range(n_item):\n",
    "    tmp = []\n",
    "    for j in range(n_user):\n",
    "        if ratings[j][i] > 0.1:\n",
    "            tmp.append(j)\n",
    "    rate_lists_item.append(tmp.copy())"
   ]
  },
  {
   "cell_type": "code",
   "execution_count": 18,
   "metadata": {},
   "outputs": [
    {
     "data": {
      "text/plain": [
       "45"
      ]
     },
     "execution_count": 18,
     "metadata": {},
     "output_type": "execute_result"
    }
   ],
   "source": [
    "len(rate_lists_user[0])"
   ]
  },
  {
   "cell_type": "code",
   "execution_count": 19,
   "metadata": {},
   "outputs": [
    {
     "data": {
      "text/plain": [
       "66"
      ]
     },
     "execution_count": 19,
     "metadata": {},
     "output_type": "execute_result"
    }
   ],
   "source": [
    "len(rate_lists_item[0])"
   ]
  },
  {
   "cell_type": "markdown",
   "metadata": {},
   "source": [
    "### initialize user and item vectors"
   ]
  },
  {
   "cell_type": "code",
   "execution_count": 20,
   "metadata": {},
   "outputs": [],
   "source": [
    "user_vecs = []\n",
    "item_vecs = []\n",
    "dim = 100\n",
    "\n",
    "def noise(dim):\n",
    "    return np.random.uniform(-1, 1, dim)\n",
    "\n",
    "for i in range(n_user):\n",
    "    user_vecs.append(noise(dim))\n",
    "for i in range(n_item):\n",
    "    item_vecs.append(noise(dim))"
   ]
  },
  {
   "cell_type": "code",
   "execution_count": 21,
   "metadata": {},
   "outputs": [
    {
     "data": {
      "text/plain": [
       "array([-0.51507744, -0.8739613 ,  0.07826759, -0.28924803,  0.03932313,\n",
       "       -0.46884907,  0.21993249,  0.89380896,  0.7686533 , -0.78214208,\n",
       "       -0.91201712,  0.39742737,  0.92409687, -0.18704837, -0.062727  ,\n",
       "        0.7378758 ,  0.42991512,  0.55779159,  0.0117248 ,  0.08988632,\n",
       "        0.77667358,  0.11764275,  0.40213369, -0.13836316, -0.93725085,\n",
       "       -0.00127812,  0.29813913, -0.03369006,  0.52155239, -0.95667744,\n",
       "        0.81450935, -0.34984538,  0.63130162,  0.4533578 , -0.330553  ,\n",
       "       -0.24368469, -0.32380983,  0.83932235,  0.06022909,  0.85817951,\n",
       "        0.88214116,  0.25771034,  0.84464748,  0.12378565,  0.83390623,\n",
       "        0.73788482, -0.94082359, -0.67930205,  0.39680989, -0.15660266,\n",
       "       -0.8701445 , -0.40896153, -0.76775843, -0.91895213,  0.89479709,\n",
       "       -0.01573443, -0.66735573, -0.10603587, -0.76865649,  0.15929475,\n",
       "        0.99964131,  0.90843384, -0.09944992, -0.78127591,  0.10790989,\n",
       "       -0.93743137,  0.8968565 ,  0.69864633,  0.78633598,  0.03076841,\n",
       "       -0.80319118,  0.77290491, -0.72326568, -0.28492813, -0.97432725,\n",
       "        0.10098018,  0.03860839,  0.24911236, -0.80906739, -0.66293654,\n",
       "        0.87913678,  0.02807651,  0.34172619, -0.93717335,  0.36784304,\n",
       "        0.16798364,  0.76519596, -0.68001207,  0.46424824,  0.94285721,\n",
       "        0.00338819,  0.79706625,  0.47735147, -0.67872651, -0.02616191,\n",
       "       -0.63049288,  0.74975381,  0.79423626,  0.75692981, -0.88456195])"
      ]
     },
     "execution_count": 21,
     "metadata": {},
     "output_type": "execute_result"
    }
   ],
   "source": [
    "user_vecs[0]"
   ]
  },
  {
   "cell_type": "markdown",
   "metadata": {},
   "source": [
    "### calculate $S^{user}$ and $S^{item}$"
   ]
  },
  {
   "cell_type": "code",
   "execution_count": 22,
   "metadata": {},
   "outputs": [],
   "source": [
    "def vec_mul(arr):\n",
    "    l = len(arr)\n",
    "    ret = []\n",
    "    \n",
    "    for i in range(l):\n",
    "        tmp = np.zeros(l)\n",
    "        for j in range(l):\n",
    "            tmp[j] = arr[i] * arr[j]\n",
    "        ret.append(tmp)\n",
    "        \n",
    "    return ret"
   ]
  },
  {
   "cell_type": "code",
   "execution_count": 23,
   "metadata": {},
   "outputs": [],
   "source": [
    "def update_s_user():\n",
    "    for i in range(n_user):\n",
    "        s = vec_mul(user_vecs[i])\n",
    "        for j in range(dim):\n",
    "            s_user[j] += s[j]\n",
    "\n",
    "def update_s_item():\n",
    "    for i in range(n_item):\n",
    "        s = vec_mul(item_vecs[i])\n",
    "        for j in range(dim):\n",
    "            s_item[j] += s[j]"
   ]
  },
  {
   "cell_type": "markdown",
   "metadata": {},
   "source": [
    "### gradient of loss"
   ]
  },
  {
   "cell_type": "code",
   "execution_count": 24,
   "metadata": {},
   "outputs": [],
   "source": [
    "def dot(a, b):\n",
    "    ret = 0.0\n",
    "    for i in range(len(a)):\n",
    "        ret += a[i] * b[i]\n",
    "    return ret\n",
    "\n",
    "def sign(x):\n",
    "    if x >= 0:\n",
    "        return 1\n",
    "    else:\n",
    "        return -1\n",
    "\n",
    "def gradient_user(i, alpha, lmd):\n",
    "    ret = np.zeros(dim)\n",
    "    # 2 * \\alpha * w_i * S^h\n",
    "    for j in range(dim):\n",
    "        ret[j] += 2 * alpha * dot(user_vecs[i], s_item[j])\n",
    "    # \\lambda * sign(w_i)\n",
    "    for j in range(dim):\n",
    "        ret[j] += lmd * sign(user_vecs[i][j])\n",
    "    # -2 * \\sum{h_j}\n",
    "    for j in range(len(rate_lists_user[i])):\n",
    "        no = rate_lists_user[i][j]\n",
    "        rate = ratings[i][no]\n",
    "        scalar = rate - (1-alpha) * dot(user_vecs[i], item_vecs[no])\n",
    "        scalar *= -2\n",
    "        ret += scalar * item_vecs[no]\n",
    "    return ret\n",
    "\n",
    "def gradient_item(i, alpha, lmd):\n",
    "    ret = np.zeros(dim)\n",
    "    # 2 * \\alpha * h_i * S^w\n",
    "    for j in range(dim):\n",
    "        ret[j] += 2 * alpha * dot(item_vecs[i], s_user[j])\n",
    "    # \\lambda * sign(h_i)\n",
    "    for j in range(dim):\n",
    "        ret[j] += lmd * sign(item_vecs[i][j])\n",
    "    # -2 * \\sum{w_j}\n",
    "    for j in range(len(rate_lists_item[i])):\n",
    "        no = rate_lists_item[i][j]\n",
    "        rate = ratings[no][i]\n",
    "        scalar = rate - (1-alpha) * dot(item_vecs[i], user_vecs[no])\n",
    "        scalar *= -2\n",
    "        ret += scalar * user_vecs[no]\n",
    "    return ret\n",
    "\n",
    "def gradient_user_u(i, alpha, lmd):\n",
    "    ret = np.zeros(dim)\n",
    "    # 2 * \\alpha * w_i * S^h\n",
    "    for j in range(dim):\n",
    "        ret[j] += 2 * alpha * dot(user_vecs_u[i], s_item_u[j])\n",
    "    # \\lambda * sign(w_i)\n",
    "    for j in range(dim):\n",
    "        ret[j] += lmd * sign(user_vecs_u[i][j])\n",
    "    # -2 * \\sum{h_j}\n",
    "    for j in range(len(rate_lists_user_u[i])):\n",
    "        no = rate_lists_user_u[i][j]\n",
    "        rate = ratings_u[i][no]\n",
    "        scalar = rate - (1-alpha) * dot(user_vecs_u[i], item_vecs_u[no])\n",
    "        scalar *= -2\n",
    "        ret += scalar * item_vecs_u[no]\n",
    "    return ret\n",
    "\n",
    "def gradient_item_u(i, alpha, lmd):\n",
    "    ret = np.zeros(dim)\n",
    "    # 2 * \\alpha * h_i * S^w\n",
    "    for j in range(dim):\n",
    "        ret[j] += 2 * alpha * dot(item_vecs_u[i], s_user_u[j])\n",
    "    # \\lambda * sign(h_i)\n",
    "    for j in range(dim):\n",
    "        ret[j] += lmd * sign(item_vecs_u[i][j])\n",
    "    # -2 * \\sum{w_j}\n",
    "    for j in range(len(rate_lists_item_u[i])):\n",
    "        no = rate_lists_item_u[i][j]\n",
    "        rate = ratings_u[no][i]\n",
    "        scalar = rate - (1-alpha) * dot(item_vecs_u[i], user_vecs_u[no])\n",
    "        scalar *= -2\n",
    "        ret += scalar * user_vecs_u[no]\n",
    "    return ret"
   ]
  },
  {
   "cell_type": "markdown",
   "metadata": {},
   "source": [
    "### hyperparameters"
   ]
  },
  {
   "cell_type": "code",
   "execution_count": 31,
   "metadata": {},
   "outputs": [
    {
     "name": "stdout",
     "output_type": "stream",
     "text": [
      "lambda: 0.01\n",
      "alpha: 0.0025\n",
      "rho: 2.0290674948791625\n",
      "learning rate: 0.001\n"
     ]
    }
   ],
   "source": [
    "lmd = 0.01\n",
    "alpha = 0.0025\n",
    "rho = alpha * (n_user*n_item - n_train) / n_train\n",
    "EPOCH = 50\n",
    "lr = 0.001 # the paper use line search, but setting learning rate is good enough\n",
    "\n",
    "print(\"lambda:\", lmd)\n",
    "print(\"alpha:\", alpha)\n",
    "print(\"rho:\", rho)\n",
    "print(\"learning rate:\", lr)"
   ]
  },
  {
   "cell_type": "markdown",
   "metadata": {},
   "source": [
    "### train"
   ]
  },
  {
   "cell_type": "code",
   "execution_count": 32,
   "metadata": {},
   "outputs": [],
   "source": [
    "def update_user(i, scalar):\n",
    "    mat = vec_mul(user_vecs[i])\n",
    "    for j in range(dim):\n",
    "        s_user[j] += scalar * mat[j]\n",
    "    return\n",
    "\n",
    "def update_item(i, scalar):\n",
    "    mat = vec_mul(item_vecs[i])\n",
    "    for j in range(dim):\n",
    "        s_item[j] += scalar * mat[j]\n",
    "    return\n",
    "\n",
    "def update_user_u(i, scalar):\n",
    "    mat = vec_mul(user_vecs_u[i])\n",
    "    for j in range(dim):\n",
    "        s_user_u[j] += scalar * mat[j]\n",
    "    return\n",
    "\n",
    "def update_item_u(i, scalar):\n",
    "    mat = vec_mul(item_vecs_u[i])\n",
    "    for j in range(dim):\n",
    "        s_item_u[j] += scalar * mat[j]\n",
    "    return"
   ]
  },
  {
   "cell_type": "code",
   "execution_count": 33,
   "metadata": {},
   "outputs": [],
   "source": [
    "def cal_loss():\n",
    "    ret = 0.0\n",
    "    for i in range(n_user):\n",
    "        for j in range(n_item):\n",
    "            if ratings[i][j] > 0.1:\n",
    "                residual = ratings[i][j] - dot(user_vecs[i], item_vecs[j])\n",
    "                ret += residual ** 2\n",
    "            else:\n",
    "                residual = ratings[i][j] - dot(user_vecs[i], item_vecs[j])\n",
    "                ret += alpha * (residual ** 2)\n",
    "    sum_w = 0.0\n",
    "    for i in range(n_user):\n",
    "        for j in range(dim):\n",
    "            sum_w += sign(user_vecs[i][j]) * user_vecs[i][j]\n",
    "    for i in range(n_item):\n",
    "        for j in range(dim):\n",
    "            sum_w += sign(item_vecs[i][j]) * item_vecs[i][j]\n",
    "    return ret + lmd * sum_w\n",
    "\n",
    "def cal_loss_u():\n",
    "    ret = 0.0\n",
    "    for i in range(n_user):\n",
    "        for j in range(n_item):\n",
    "            if ratings_u[i][j] > 0.1:\n",
    "                residual = ratings_u[i][j] - dot(user_vecs_u[i], item_vecs_u[j])\n",
    "                ret += residual ** 2\n",
    "            else:\n",
    "                residual = ratings_u[i][j] - dot(user_vecs_u[i], item_vecs_u[j])\n",
    "                ret += alpha * (residual ** 2)\n",
    "    sum_w = 0.0\n",
    "    for i in range(n_user):\n",
    "        for j in range(dim):\n",
    "            sum_w += sign(user_vecs_u[i][j]) * user_vecs_u[i][j]\n",
    "    for i in range(n_item):\n",
    "        for j in range(dim):\n",
    "            sum_w += sign(item_vecs_u[i][j]) * item_vecs_u[i][j]\n",
    "    return ret + lmd * sum_w"
   ]
  },
  {
   "cell_type": "code",
   "execution_count": 34,
   "metadata": {},
   "outputs": [],
   "source": [
    "def cal_acc(n):\n",
    "    predict = []\n",
    "    rates = []\n",
    "    error = 0.0\n",
    "\n",
    "    for i in range(n):\n",
    "        rates.append(1.0)\n",
    "        predict.append(dot(user_vecs[test[i][0]], item_vecs[test[i][1]]))\n",
    "\n",
    "    for i in range(n):\n",
    "        error += abs(rates[i] - predict[i])\n",
    "\n",
    "    return error / n\n",
    "\n",
    "def cal_acc_u(n):\n",
    "    predict = []\n",
    "    rates = []\n",
    "    error = 0.0\n",
    "\n",
    "    for i in range(n):\n",
    "        rates.append(1.0)\n",
    "        predict.append(dot(user_vecs_u[test[i][0]], item_vecs_u[test[i][1]]))\n",
    "\n",
    "    for i in range(n):\n",
    "        error += abs(rates[i] - predict[i])\n",
    "\n",
    "    return error / n\n",
    "\n",
    "def cal_insample_acc(n):\n",
    "    predict = []\n",
    "    rates = []\n",
    "    error = 0.0\n",
    "\n",
    "    for i in range(n):\n",
    "        rates.append(1.0)\n",
    "        predict.append(dot(user_vecs[train[i][0]], item_vecs[train[i][1]]))\n",
    "\n",
    "    for i in range(n):\n",
    "        error += abs(rates[i] - predict[i])\n",
    "\n",
    "    return error / n\n",
    "\n",
    "def cal_insample_acc_u(n):\n",
    "    predict = []\n",
    "    rates = []\n",
    "    error = 0.0\n",
    "\n",
    "    for i in range(n):\n",
    "        rates.append(1.0)\n",
    "        predict.append(dot(user_vecs_u[train[i][0]], item_vecs_u[train[i][1]]))\n",
    "\n",
    "    for i in range(n):\n",
    "        error += abs(rates[i] - predict[i])\n",
    "\n",
    "    return error / n"
   ]
  },
  {
   "cell_type": "code",
   "execution_count": 35,
   "metadata": {},
   "outputs": [],
   "source": [
    "user_vecs = []\n",
    "item_vecs = []\n",
    "s_user = vec_mul(np.zeros(dim))\n",
    "s_item = vec_mul(np.zeros(dim))\n",
    "\n",
    "for i in range(n_user):\n",
    "    user_vecs.append(noise(dim))\n",
    "for i in range(n_item):\n",
    "    item_vecs.append(noise(dim))\n",
    "\n",
    "update_s_user()\n",
    "update_s_item()\n",
    "\n",
    "user_vecs_u = copy.deepcopy(user_vecs)\n",
    "item_vecs_u = copy.deepcopy(item_vecs)\n",
    "s_user_u = copy.deepcopy(s_user)\n",
    "s_item_u = copy.deepcopy(s_item)"
   ]
  },
  {
   "cell_type": "code",
   "execution_count": 36,
   "metadata": {},
   "outputs": [],
   "source": [
    "user_vecs = copy.deepcopy(user_vecs_u)\n",
    "item_vecs = copy.deepcopy(item_vecs_u)\n",
    "s_user = copy.deepcopy(s_user_u)\n",
    "s_item = copy.deepcopy(s_item_u)\n",
    "\n",
    "start_train_time = time.time()\n",
    "cal_loss_time = 0.0\n",
    "cal_acc_time = 0.0\n",
    "\n",
    "losses = []\n",
    "in_accs = []\n",
    "out_accs = []"
   ]
  },
  {
   "cell_type": "code",
   "execution_count": null,
   "metadata": {},
   "outputs": [
    {
     "name": "stdout",
     "output_type": "stream",
     "text": [
      "user: 100 ; in-sample error: 2.76039083837 ; out-sample error 2.76364197604\n",
      "user: 200 ; in-sample error: 2.75955953779 ; out-sample error 2.76315280955\n",
      "user: 300 ; in-sample error: 2.75900286672 ; out-sample error 2.76247713871\n",
      "user: 400 ; in-sample error: 2.75806825098 ; out-sample error 2.76188620775\n",
      "user: 500 ; in-sample error: 2.75625908913 ; out-sample error 2.76113598819\n",
      "user: 600 ; in-sample error: 2.75548840484 ; out-sample error 2.76054778846\n",
      "user: 700 ; in-sample error: 2.75525373837 ; out-sample error 2.75988815115\n",
      "user: 800 ; in-sample error: 2.7546157574 ; out-sample error 2.75929288351\n",
      "user: 900 ; in-sample error: 2.75250216391 ; out-sample error 2.75863585287\n",
      "user: 1000 ; in-sample error: 2.74761573871 ; out-sample error 2.75804686122\n",
      "user: 1100 ; in-sample error: 2.7452150174 ; out-sample error 2.75729929065\n",
      "user: 1200 ; in-sample error: 2.74449066037 ; out-sample error 2.75655489074\n",
      "user: 1300 ; in-sample error: 2.74380951127 ; out-sample error 2.75604754376\n",
      "user: 1400 ; in-sample error: 2.74337708815 ; out-sample error 2.75532444358\n",
      "user: 1500 ; in-sample error: 2.74255890107 ; out-sample error 2.75475396889\n",
      "user: 1600 ; in-sample error: 2.74021001998 ; out-sample error 2.75410700285\n",
      "user: 1700 ; in-sample error: 2.73881609395 ; out-sample error 2.75345199159\n",
      "user: 1800 ; in-sample error: 2.73839488089 ; out-sample error 2.75270363258\n",
      "user: 1900 ; in-sample error: 2.73788971295 ; out-sample error 2.75201120651\n",
      "user: 2000 ; in-sample error: 2.73771156132 ; out-sample error 2.75149821399\n",
      "user: 2100 ; in-sample error: 2.73707758255 ; out-sample error 2.75077241827\n",
      "user: 2200 ; in-sample error: 2.73376359677 ; out-sample error 2.75007776474\n",
      "user: 2300 ; in-sample error: 2.73151245992 ; out-sample error 2.74936790044\n",
      "user: 2400 ; in-sample error: 2.73062903689 ; out-sample error 2.74877217004\n",
      "user: 2500 ; in-sample error: 2.72968710604 ; out-sample error 2.74816872317\n",
      "user: 2600 ; in-sample error: 2.72853819041 ; out-sample error 2.74748067023\n",
      "user: 2700 ; in-sample error: 2.72727782012 ; out-sample error 2.74689315626\n",
      "user: 2800 ; in-sample error: 2.72716760857 ; out-sample error 2.74624923364\n",
      "user: 2900 ; in-sample error: 2.72673281428 ; out-sample error 2.74548702612\n",
      "user: 3000 ; in-sample error: 2.7252772809 ; out-sample error 2.74488870085\n",
      "user: 3100 ; in-sample error: 2.72484064071 ; out-sample error 2.74430686911\n",
      "user: 3200 ; in-sample error: 2.72234636955 ; out-sample error 2.74354162004\n",
      "user: 3300 ; in-sample error: 2.72191146566 ; out-sample error 2.74278445308\n",
      "user: 3400 ; in-sample error: 2.72146434508 ; out-sample error 2.74220295353\n",
      "user: 3500 ; in-sample error: 2.72102052835 ; out-sample error 2.74153179157\n",
      "user: 3600 ; in-sample error: 2.72078487388 ; out-sample error 2.74086333402\n",
      "user: 3700 ; in-sample error: 2.72040618805 ; out-sample error 2.74029477253\n",
      "user: 3800 ; in-sample error: 2.72006986358 ; out-sample error 2.73960637142\n",
      "user: 3900 ; in-sample error: 2.71980393983 ; out-sample error 2.73888012972\n",
      "user: 4000 ; in-sample error: 2.71973118041 ; out-sample error 2.73815617642\n",
      "user: 4100 ; in-sample error: 2.71942123462 ; out-sample error 2.73744632735\n",
      "user: 4200 ; in-sample error: 2.71869581553 ; out-sample error 2.73676320015\n",
      "user: 4300 ; in-sample error: 2.71830479843 ; out-sample error 2.73617862\n",
      "user: 4400 ; in-sample error: 2.71731037505 ; out-sample error 2.73546751675\n",
      "user: 4500 ; in-sample error: 2.71671980651 ; out-sample error 2.73489678841\n",
      "user: 4600 ; in-sample error: 2.71661630603 ; out-sample error 2.73430240804\n",
      "user: 4700 ; in-sample error: 2.71613907134 ; out-sample error 2.73368228779\n",
      "user: 4800 ; in-sample error: 2.71534430326 ; out-sample error 2.7329119775\n",
      "user: 4900 ; in-sample error: 2.71534430326 ; out-sample error 2.73237855983\n",
      "user: 5000 ; in-sample error: 2.71534430326 ; out-sample error 2.73172372223\n",
      "user: 5100 ; in-sample error: 2.71189098074 ; out-sample error 2.73110983611\n",
      "user: 5200 ; in-sample error: 2.71140822585 ; out-sample error 2.73048836397\n",
      "user: 5300 ; in-sample error: 2.71099202827 ; out-sample error 2.72968477019\n",
      "user: 5400 ; in-sample error: 2.70940322982 ; out-sample error 2.72905360771\n",
      "user: 5500 ; in-sample error: 2.70813863128 ; out-sample error 2.72829955917\n",
      "user: 5600 ; in-sample error: 2.70773203462 ; out-sample error 2.72769162292\n",
      "user: 5700 ; in-sample error: 2.70610485375 ; out-sample error 2.72706093027\n",
      "user: 5800 ; in-sample error: 2.69080627385 ; out-sample error 2.7263520463\n",
      "user: 5900 ; in-sample error: 2.68988144293 ; out-sample error 2.72564724257\n",
      "user: 6000 ; in-sample error: 2.68896221379 ; out-sample error 2.72501927967\n",
      "user: 6100 ; in-sample error: 2.68874261871 ; out-sample error 2.72434918158\n",
      "user: 6200 ; in-sample error: 2.68750348685 ; out-sample error 2.72374723442\n",
      "user: 6300 ; in-sample error: 2.68677003924 ; out-sample error 2.72312611328\n",
      "user: 6400 ; in-sample error: 2.68536480368 ; out-sample error 2.7223791868\n",
      "user: 6500 ; in-sample error: 2.68502987952 ; out-sample error 2.72175447168\n",
      "user: 6600 ; in-sample error: 2.6843701648 ; out-sample error 2.72112539434\n",
      "user: 6700 ; in-sample error: 2.6842291853 ; out-sample error 2.72052534955\n",
      "user: 6800 ; in-sample error: 2.65857198895 ; out-sample error 2.7197154716\n",
      "user: 6900 ; in-sample error: 2.65319639255 ; out-sample error 2.71906585643\n",
      "user: 7000 ; in-sample error: 2.65289273893 ; out-sample error 2.71842125646\n",
      "user: 7100 ; in-sample error: 2.65224570674 ; out-sample error 2.71766350738\n",
      "user: 7200 ; in-sample error: 2.65084839408 ; out-sample error 2.71701319767\n",
      "user: 7300 ; in-sample error: 2.6497381239 ; out-sample error 2.71641334691\n",
      "user: 7400 ; in-sample error: 2.64918916252 ; out-sample error 2.71582142201\n",
      "user: 7500 ; in-sample error: 2.64909047611 ; out-sample error 2.71506740189\n",
      "user: 7600 ; in-sample error: 2.64893944122 ; out-sample error 2.71443795818\n",
      "user: 7700 ; in-sample error: 2.6476887542 ; out-sample error 2.71379835359\n",
      "user: 7800 ; in-sample error: 2.64617991454 ; out-sample error 2.71305835604\n",
      "user: 7900 ; in-sample error: 2.64545580945 ; out-sample error 2.71243906761\n",
      "user: 8000 ; in-sample error: 2.64525956819 ; out-sample error 2.71179930757\n",
      "user: 8100 ; in-sample error: 2.64493078385 ; out-sample error 2.71126281736\n",
      "user: 8200 ; in-sample error: 2.64434871644 ; out-sample error 2.71068108397\n",
      "user: 8300 ; in-sample error: 2.64284033647 ; out-sample error 2.71004738544\n",
      "user: 8400 ; in-sample error: 2.64254070285 ; out-sample error 2.70943352569\n",
      "user: 8500 ; in-sample error: 2.60686955993 ; out-sample error 2.70866224484\n",
      "user: 8600 ; in-sample error: 2.60616865784 ; out-sample error 2.70803444331\n",
      "user: 8700 ; in-sample error: 2.60483396345 ; out-sample error 2.70739336116\n",
      "user: 8800 ; in-sample error: 2.60339795454 ; out-sample error 2.7068101317\n",
      "user: 8900 ; in-sample error: 2.59901268428 ; out-sample error 2.70625560514\n",
      "user: 9000 ; in-sample error: 2.59858250374 ; out-sample error 2.70569333211\n",
      "user: 9100 ; in-sample error: 2.59757582201 ; out-sample error 2.70499035052\n",
      "user: 9200 ; in-sample error: 2.59645410086 ; out-sample error 2.70448565017\n",
      "user: 9300 ; in-sample error: 2.59621872627 ; out-sample error 2.70388283352\n",
      "user: 9400 ; in-sample error: 2.59583335864 ; out-sample error 2.70302936441\n",
      "user: 9500 ; in-sample error: 2.59482677517 ; out-sample error 2.70230019717\n",
      "user: 9600 ; in-sample error: 2.59408896375 ; out-sample error 2.70164900737\n",
      "user: 9700 ; in-sample error: 2.59215691207 ; out-sample error 2.70103214351\n",
      "user: 9800 ; in-sample error: 2.5917566458 ; out-sample error 2.70031619553\n",
      "user: 9900 ; in-sample error: 2.59127068148 ; out-sample error 2.69971362091\n",
      "user: 10000 ; in-sample error: 2.59052442828 ; out-sample error 2.69900150017\n",
      "user: 10100 ; in-sample error: 2.5897789311 ; out-sample error 2.69846843135\n",
      "user: 10200 ; in-sample error: 2.58893184277 ; out-sample error 2.69802322205\n",
      "user: 10300 ; in-sample error: 2.58852820325 ; out-sample error 2.69735860507\n",
      "user: 10400 ; in-sample error: 2.58793698043 ; out-sample error 2.69664410527\n",
      "user: 10500 ; in-sample error: 2.58703246584 ; out-sample error 2.69597475497\n",
      "user: 10600 ; in-sample error: 2.58644986054 ; out-sample error 2.69529140497\n",
      "user: 10700 ; in-sample error: 2.58548674822 ; out-sample error 2.69467633713\n"
     ]
    },
    {
     "name": "stdout",
     "output_type": "stream",
     "text": [
      "user: 10800 ; in-sample error: 2.58450581956 ; out-sample error 2.69398480083\n",
      "user: 10900 ; in-sample error: 2.58293032169 ; out-sample error 2.69332926838\n",
      "user: 11000 ; in-sample error: 2.58219773913 ; out-sample error 2.69279699539\n",
      "user: 11100 ; in-sample error: 2.58163360688 ; out-sample error 2.69207169407\n",
      "user: 11200 ; in-sample error: 2.58060581138 ; out-sample error 2.69143487834\n",
      "user: 11300 ; in-sample error: 2.57905990545 ; out-sample error 2.6907010109\n",
      "user: 11400 ; in-sample error: 2.57854078683 ; out-sample error 2.68999674383\n",
      "user: 11500 ; in-sample error: 2.578231317 ; out-sample error 2.68928080691\n",
      "user: 11600 ; in-sample error: 2.57134121968 ; out-sample error 2.68873591689\n",
      "user: 11700 ; in-sample error: 2.57093391474 ; out-sample error 2.68803027833\n",
      "user: 11800 ; in-sample error: 2.57093391474 ; out-sample error 2.68734687361\n",
      "user: 11900 ; in-sample error: 2.56924222065 ; out-sample error 2.68658784126\n",
      "user: 12000 ; in-sample error: 2.56912884281 ; out-sample error 2.68592802755\n",
      "user: 12100 ; in-sample error: 2.56431633169 ; out-sample error 2.68532552094\n",
      "user: 12200 ; in-sample error: 2.56323036249 ; out-sample error 2.68475230905\n",
      "user: 12300 ; in-sample error: 2.56306179473 ; out-sample error 2.68397892689\n",
      "user: 12400 ; in-sample error: 2.56251156599 ; out-sample error 2.6832951062\n",
      "user: 12500 ; in-sample error: 2.56188853075 ; out-sample error 2.68251019428\n",
      "user: 12600 ; in-sample error: 2.56117386054 ; out-sample error 2.68169055025\n",
      "user: 12700 ; in-sample error: 2.56094202103 ; out-sample error 2.6809483634\n",
      "user: 12800 ; in-sample error: 2.56049790729 ; out-sample error 2.68020271123\n",
      "user: 12900 ; in-sample error: 2.55783215888 ; out-sample error 2.67954875403\n",
      "user: 13000 ; in-sample error: 2.55714388297 ; out-sample error 2.67884623307\n",
      "user: 13100 ; in-sample error: 2.55704895054 ; out-sample error 2.67818379722\n",
      "user: 13200 ; in-sample error: 2.55585495226 ; out-sample error 2.67743567668\n",
      "user: 13300 ; in-sample error: 2.55234203168 ; out-sample error 2.67668847074\n",
      "user: 13400 ; in-sample error: 2.55221589943 ; out-sample error 2.67601308946\n",
      "user: 13500 ; in-sample error: 2.55029275362 ; out-sample error 2.67537809018\n",
      "user: 13600 ; in-sample error: 2.54892909272 ; out-sample error 2.67455719381\n",
      "user: 13700 ; in-sample error: 2.54877486144 ; out-sample error 2.67390479998\n",
      "user: 13800 ; in-sample error: 2.54846983603 ; out-sample error 2.67318431478\n",
      "user: 13900 ; in-sample error: 2.54647644208 ; out-sample error 2.67236679318\n",
      "user: 14000 ; in-sample error: 2.54634827517 ; out-sample error 2.67165056861\n",
      "user: 14100 ; in-sample error: 2.54499438609 ; out-sample error 2.67113329696\n",
      "user: 14200 ; in-sample error: 2.54454497452 ; out-sample error 2.67049800431\n",
      "user: 14300 ; in-sample error: 2.5437205568 ; out-sample error 2.66973376642\n",
      "user: 14400 ; in-sample error: 2.54291911708 ; out-sample error 2.66894806232\n",
      "user: 14500 ; in-sample error: 2.54097192917 ; out-sample error 2.6683645682\n",
      "user: 14600 ; in-sample error: 2.54036380667 ; out-sample error 2.66773609691\n",
      "user: 14700 ; in-sample error: 2.5400208378 ; out-sample error 2.66715568124\n",
      "user: 14800 ; in-sample error: 2.53304383065 ; out-sample error 2.66642662153\n",
      "user: 14900 ; in-sample error: 2.53084864889 ; out-sample error 2.66583802532\n",
      "user: 15000 ; in-sample error: 2.53039836022 ; out-sample error 2.66500502777\n",
      "user: 15100 ; in-sample error: 2.52927281542 ; out-sample error 2.66437044139\n",
      "user: 15200 ; in-sample error: 2.52833693657 ; out-sample error 2.66368437919\n",
      "user: 15300 ; in-sample error: 2.52717198596 ; out-sample error 2.66314996472\n",
      "user: 15400 ; in-sample error: 2.52596180741 ; out-sample error 2.66253697702\n",
      "user: 15500 ; in-sample error: 2.52548631034 ; out-sample error 2.66198853977\n",
      "user: 15600 ; in-sample error: 2.52522885387 ; out-sample error 2.66137865907\n",
      "user: 15700 ; in-sample error: 2.52474816059 ; out-sample error 2.66073093108\n",
      "user: 15800 ; in-sample error: 2.52354465026 ; out-sample error 2.66000127987\n",
      "user: 15900 ; in-sample error: 2.52277936353 ; out-sample error 2.6592595073\n",
      "user: 16000 ; in-sample error: 2.52152427411 ; out-sample error 2.65865013247\n",
      "user: 16100 ; in-sample error: 2.52113580276 ; out-sample error 2.65804065365\n",
      "user: 16200 ; in-sample error: 2.51990170173 ; out-sample error 2.65727502059\n",
      "user: 16300 ; in-sample error: 2.51763559338 ; out-sample error 2.65651897062\n",
      "user: 16400 ; in-sample error: 2.51602980209 ; out-sample error 2.65585563167\n",
      "user: 16500 ; in-sample error: 2.51516441289 ; out-sample error 2.65521830505\n",
      "user: 16600 ; in-sample error: 2.51516441289 ; out-sample error 2.65456706367\n",
      "user: 16700 ; in-sample error: 2.51383565827 ; out-sample error 2.65384410122\n",
      "user: 16800 ; in-sample error: 2.50980996302 ; out-sample error 2.65315912827\n",
      "user: 16900 ; in-sample error: 2.50962832204 ; out-sample error 2.65258628452\n",
      "user: 17000 ; in-sample error: 2.50807964247 ; out-sample error 2.65184886869\n",
      "user: 17100 ; in-sample error: 2.50660417515 ; out-sample error 2.65127724703\n",
      "user: 17200 ; in-sample error: 2.50555599387 ; out-sample error 2.65047053029\n",
      "user: 17300 ; in-sample error: 2.50510178106 ; out-sample error 2.64997296009\n",
      "user: 17400 ; in-sample error: 2.5044013447 ; out-sample error 2.64926361124\n",
      "user: 17500 ; in-sample error: 2.50108922308 ; out-sample error 2.64856978483\n",
      "user: 17600 ; in-sample error: 2.49860599146 ; out-sample error 2.64776401746\n",
      "user: 17700 ; in-sample error: 2.49311289987 ; out-sample error 2.64698659692\n",
      "user: 17800 ; in-sample error: 2.49059007961 ; out-sample error 2.64626290152\n",
      "user: 17900 ; in-sample error: 2.49028420537 ; out-sample error 2.64564917642\n",
      "user: 18000 ; in-sample error: 2.48877616054 ; out-sample error 2.6448351021\n",
      "user: 18100 ; in-sample error: 2.48630024114 ; out-sample error 2.64408922856\n",
      "user: 18200 ; in-sample error: 2.4815151235 ; out-sample error 2.64340498393\n",
      "user: 18300 ; in-sample error: 2.48127224756 ; out-sample error 2.64276851066\n",
      "user: 18400 ; in-sample error: 2.48036516725 ; out-sample error 2.64209307779\n",
      "user: 18500 ; in-sample error: 2.47826050653 ; out-sample error 2.64155789209\n",
      "user: 18600 ; in-sample error: 2.47781834441 ; out-sample error 2.6409979712\n",
      "user: 18700 ; in-sample error: 2.47695647017 ; out-sample error 2.64039622816\n",
      "user: 18800 ; in-sample error: 2.47647704803 ; out-sample error 2.63981053278\n",
      "user: 18900 ; in-sample error: 2.47620266729 ; out-sample error 2.63918819207\n",
      "user: 19000 ; in-sample error: 2.47529450097 ; out-sample error 2.63846475371\n",
      "user: 19100 ; in-sample error: 2.47284622044 ; out-sample error 2.63789821078\n",
      "user: 19200 ; in-sample error: 2.47220819749 ; out-sample error 2.6372057489\n",
      "user: 19300 ; in-sample error: 2.47197920409 ; out-sample error 2.63652504453\n",
      "user: 19400 ; in-sample error: 2.47166730465 ; out-sample error 2.6360606431\n",
      "user: 19500 ; in-sample error: 2.47087328769 ; out-sample error 2.63545345872\n",
      "user: 19600 ; in-sample error: 2.47040112188 ; out-sample error 2.63480039338\n",
      "user: 19700 ; in-sample error: 2.47028746602 ; out-sample error 2.63418757931\n",
      "user: 19800 ; in-sample error: 2.46909161784 ; out-sample error 2.63348062544\n",
      "user: 19900 ; in-sample error: 2.46877127394 ; out-sample error 2.63264436898\n",
      "user: 20000 ; in-sample error: 2.46400213668 ; out-sample error 2.63187136274\n",
      "user: 20100 ; in-sample error: 2.46320933699 ; out-sample error 2.63123154734\n",
      "user: 20200 ; in-sample error: 2.46245111687 ; out-sample error 2.63072804945\n",
      "user: 20300 ; in-sample error: 2.4619341195 ; out-sample error 2.63008576757\n",
      "user: 20400 ; in-sample error: 2.46055644405 ; out-sample error 2.6294575965\n",
      "user: 20500 ; in-sample error: 2.46055644405 ; out-sample error 2.62862577136\n",
      "user: 20600 ; in-sample error: 2.46013244701 ; out-sample error 2.62798235954\n",
      "user: 20700 ; in-sample error: 2.45928979998 ; out-sample error 2.62717540216\n",
      "user: 20800 ; in-sample error: 2.45860709068 ; out-sample error 2.62654403518\n",
      "user: 20900 ; in-sample error: 2.45811089034 ; out-sample error 2.62595702041\n",
      "user: 21000 ; in-sample error: 2.45691490703 ; out-sample error 2.62515212304\n",
      "user: 21100 ; in-sample error: 2.45635612605 ; out-sample error 2.62456465632\n",
      "user: 21200 ; in-sample error: 2.45271598336 ; out-sample error 2.62396928799\n",
      "user: 21300 ; in-sample error: 2.45224334941 ; out-sample error 2.62303383108\n"
     ]
    },
    {
     "name": "stdout",
     "output_type": "stream",
     "text": [
      "user: 21400 ; in-sample error: 2.45202235805 ; out-sample error 2.62239376142\n",
      "user: 21500 ; in-sample error: 2.44907703775 ; out-sample error 2.62162939233\n",
      "user: 21600 ; in-sample error: 2.44897809981 ; out-sample error 2.62070642467\n",
      "user: 21700 ; in-sample error: 2.4487937069 ; out-sample error 2.62016915728\n",
      "user: 21800 ; in-sample error: 2.44845386418 ; out-sample error 2.61951997274\n",
      "user: 21900 ; in-sample error: 2.44486614212 ; out-sample error 2.6188521998\n",
      "user: 22000 ; in-sample error: 2.44440198937 ; out-sample error 2.61830896721\n",
      "user: 22100 ; in-sample error: 2.43862754578 ; out-sample error 2.61761663237\n",
      "user: 22200 ; in-sample error: 2.43060400525 ; out-sample error 2.61683028008\n",
      "user: 22300 ; in-sample error: 2.43041534516 ; out-sample error 2.61610120179\n",
      "user: 22400 ; in-sample error: 2.42913282576 ; out-sample error 2.61542187014\n",
      "user: 22500 ; in-sample error: 2.42817793196 ; out-sample error 2.61483729662\n",
      "user: 22600 ; in-sample error: 2.42773080155 ; out-sample error 2.61420678141\n",
      "user: 22700 ; in-sample error: 2.42668694592 ; out-sample error 2.61356301246\n",
      "user: 22800 ; in-sample error: 2.42607638611 ; out-sample error 2.612960901\n",
      "user: 22900 ; in-sample error: 2.42550800985 ; out-sample error 2.61229091241\n",
      "user: 23000 ; in-sample error: 2.42344238686 ; out-sample error 2.6117664148\n",
      "user: 23100 ; in-sample error: 2.42255168564 ; out-sample error 2.61118405848\n",
      "user: 23200 ; in-sample error: 2.42089436963 ; out-sample error 2.61040470386\n",
      "user: 23300 ; in-sample error: 2.41919162719 ; out-sample error 2.60983092971\n",
      "user: 23400 ; in-sample error: 2.41766249421 ; out-sample error 2.60916740405\n",
      "user: 23500 ; in-sample error: 2.41724384535 ; out-sample error 2.60834522265\n",
      "user: 23600 ; in-sample error: 2.415172092 ; out-sample error 2.60765626754\n",
      "user: 23700 ; in-sample error: 2.41507639399 ; out-sample error 2.60693160021\n",
      "user: 23800 ; in-sample error: 2.41323071748 ; out-sample error 2.60635515458\n",
      "user: 23900 ; in-sample error: 2.41275605409 ; out-sample error 2.60569116363\n",
      "user: 24000 ; in-sample error: 2.41207069884 ; out-sample error 2.60496951996\n",
      "user: 24100 ; in-sample error: 2.41195581247 ; out-sample error 2.60451507853\n",
      "user: 24200 ; in-sample error: 2.41159635303 ; out-sample error 2.60395231945\n",
      "user: 24300 ; in-sample error: 2.41111185275 ; out-sample error 2.60330006592\n",
      "user: 24400 ; in-sample error: 2.41092913827 ; out-sample error 2.60261295202\n",
      "user: 24500 ; in-sample error: 2.4104739029 ; out-sample error 2.60186043605\n",
      "user: 24600 ; in-sample error: 2.4102806123 ; out-sample error 2.6012126263\n",
      "user: 24700 ; in-sample error: 2.41002315488 ; out-sample error 2.60056029752\n",
      "user: 24800 ; in-sample error: 2.40949978001 ; out-sample error 2.60004122069\n",
      "user: 24900 ; in-sample error: 2.40842277102 ; out-sample error 2.59935416847\n",
      "user: 25000 ; in-sample error: 2.40765592854 ; out-sample error 2.59868899575\n",
      "user: 25100 ; in-sample error: 2.40221071325 ; out-sample error 2.59785810113\n",
      "user: 25200 ; in-sample error: 2.4014684196 ; out-sample error 2.59706010273\n",
      "user: 25300 ; in-sample error: 2.4006540526 ; out-sample error 2.59647509671\n",
      "user: 25400 ; in-sample error: 2.39997247227 ; out-sample error 2.59587065031\n",
      "user: 25500 ; in-sample error: 2.39923195038 ; out-sample error 2.59532728913\n",
      "user: 25600 ; in-sample error: 2.39673831263 ; out-sample error 2.59461112859\n",
      "user: 25700 ; in-sample error: 2.39664158442 ; out-sample error 2.59404758807\n",
      "user: 25800 ; in-sample error: 2.39471461445 ; out-sample error 2.59347633058\n",
      "user: 25900 ; in-sample error: 2.39409581411 ; out-sample error 2.59284895606\n",
      "user: 26000 ; in-sample error: 2.39316231398 ; out-sample error 2.59214089782\n",
      "user: 26100 ; in-sample error: 2.39169384652 ; out-sample error 2.5914279326\n",
      "user: 26200 ; in-sample error: 2.39124533654 ; out-sample error 2.59080778628\n",
      "user: 26300 ; in-sample error: 2.39031188405 ; out-sample error 2.59017206171\n",
      "user: 26400 ; in-sample error: 2.38907273892 ; out-sample error 2.58936684177\n",
      "user: 26500 ; in-sample error: 2.38839562559 ; out-sample error 2.58881114292\n",
      "user: 26600 ; in-sample error: 2.38834619516 ; out-sample error 2.58826944549\n",
      "user: 26700 ; in-sample error: 2.38429864526 ; out-sample error 2.58760694621\n",
      "user: 26800 ; in-sample error: 2.38340634017 ; out-sample error 2.58688314138\n",
      "user: 26900 ; in-sample error: 2.38243910014 ; out-sample error 2.5862618625\n",
      "user: 27000 ; in-sample error: 2.38174980016 ; out-sample error 2.58543242573\n",
      "user: 27100 ; in-sample error: 2.37895613175 ; out-sample error 2.58467534186\n",
      "user: 27200 ; in-sample error: 2.37844558883 ; out-sample error 2.58395961891\n",
      "user: 27300 ; in-sample error: 2.37766199493 ; out-sample error 2.58329004262\n",
      "user: 27400 ; in-sample error: 2.37766199493 ; out-sample error 2.58263640104\n",
      "user: 27500 ; in-sample error: 2.37766199493 ; out-sample error 2.58190116615\n",
      "user: 27600 ; in-sample error: 2.37483983027 ; out-sample error 2.5811511393\n",
      "user: 27700 ; in-sample error: 2.37465357237 ; out-sample error 2.58048631718\n",
      "user: 27800 ; in-sample error: 2.37451661927 ; out-sample error 2.57979018053\n",
      "user: 27900 ; in-sample error: 2.37344412234 ; out-sample error 2.57919938908\n",
      "user: 28000 ; in-sample error: 2.3728603353 ; out-sample error 2.57841965914\n",
      "user: 28100 ; in-sample error: 2.37254899685 ; out-sample error 2.57767951918\n",
      "user: 28200 ; in-sample error: 2.37195620878 ; out-sample error 2.57710984745\n",
      "user: 28300 ; in-sample error: 2.37133989117 ; out-sample error 2.57651515924\n",
      "user: 28400 ; in-sample error: 2.37004227686 ; out-sample error 2.57583977617\n",
      "user: 28500 ; in-sample error: 2.36942008305 ; out-sample error 2.57528667511\n",
      "user: 28600 ; in-sample error: 2.3692890097 ; out-sample error 2.5745174308\n",
      "user: 28700 ; in-sample error: 2.36726580849 ; out-sample error 2.57394747015\n",
      "user: 28800 ; in-sample error: 2.36526331636 ; out-sample error 2.57326329682\n",
      "user: 28900 ; in-sample error: 2.36475142612 ; out-sample error 2.57259170978\n",
      "user: 29000 ; in-sample error: 2.36259629564 ; out-sample error 2.57199936659\n",
      "user: 29100 ; in-sample error: 2.3619108537 ; out-sample error 2.57132573027\n",
      "user: 29200 ; in-sample error: 2.36107588589 ; out-sample error 2.57062155002\n",
      "user: 29300 ; in-sample error: 2.35960593546 ; out-sample error 2.56998854123\n",
      "user: 29400 ; in-sample error: 2.3592260628 ; out-sample error 2.56921086736\n",
      "user: 29500 ; in-sample error: 2.35906419357 ; out-sample error 2.56854927247\n",
      "user: 29600 ; in-sample error: 2.35862568992 ; out-sample error 2.56786662363\n",
      "user: 29700 ; in-sample error: 2.34496494379 ; out-sample error 2.5671503466\n",
      "user: 29800 ; in-sample error: 2.34420786139 ; out-sample error 2.56643329389\n",
      "user: 29900 ; in-sample error: 2.34290960825 ; out-sample error 2.56587017987\n",
      "user: 30000 ; in-sample error: 2.34099262956 ; out-sample error 2.5650735282\n",
      "user: 30100 ; in-sample error: 2.3383250189 ; out-sample error 2.56441357653\n",
      "user: 30200 ; in-sample error: 2.33821624298 ; out-sample error 2.56373489604\n",
      "user: 30300 ; in-sample error: 2.33623113564 ; out-sample error 2.56295426154\n",
      "user: 30400 ; in-sample error: 2.32971796593 ; out-sample error 2.56235589426\n",
      "item: 100 ; in-sample error: 2.32773661107 ; out-sample error 2.56094788446\n",
      "item: 200 ; in-sample error: 2.32539955887 ; out-sample error 2.5585080371\n",
      "item: 300 ; in-sample error: 2.32365242274 ; out-sample error 2.5574927513\n",
      "item: 400 ; in-sample error: 2.32185740956 ; out-sample error 2.55598548836\n",
      "item: 500 ; in-sample error: 2.32030947159 ; out-sample error 2.55469078956\n",
      "item: 600 ; in-sample error: 2.31895724834 ; out-sample error 2.55359763149\n",
      "item: 700 ; in-sample error: 2.31794433846 ; out-sample error 2.55281616415\n",
      "item: 800 ; in-sample error: 2.31382142916 ; out-sample error 2.54953955111\n",
      "item: 900 ; in-sample error: 2.31168936992 ; out-sample error 2.54679065928\n",
      "item: 1000 ; in-sample error: 2.30929524637 ; out-sample error 2.54549254365\n",
      "item: 1100 ; in-sample error: 2.30765828928 ; out-sample error 2.54371187964\n",
      "item: 1200 ; in-sample error: 2.30621524201 ; out-sample error 2.54250563604\n",
      "item: 1300 ; in-sample error: 2.3050532282 ; out-sample error 2.54147036361\n",
      "item: 1400 ; in-sample error: 2.30389285265 ; out-sample error 2.54045002298\n",
      "item: 1500 ; in-sample error: 2.30299590768 ; out-sample error 2.53982227183\n"
     ]
    },
    {
     "name": "stdout",
     "output_type": "stream",
     "text": [
      "item: 1600 ; in-sample error: 2.30204553469 ; out-sample error 2.53881760557\n",
      "item: 1700 ; in-sample error: 2.30110888037 ; out-sample error 2.53798752348\n",
      "item: 1800 ; in-sample error: 2.29953994515 ; out-sample error 2.53671886022\n",
      "item: 1900 ; in-sample error: 2.2989157143 ; out-sample error 2.53620730085\n",
      "item: 2000 ; in-sample error: 2.29784412119 ; out-sample error 2.5352636252\n",
      "item: 2100 ; in-sample error: 2.29641490015 ; out-sample error 2.5342802604\n",
      "item: 2200 ; in-sample error: 2.2950547455 ; out-sample error 2.53304226708\n",
      "item: 2300 ; in-sample error: 2.29405752782 ; out-sample error 2.53205755686\n",
      "item: 2400 ; in-sample error: 2.29285510474 ; out-sample error 2.5314045671\n",
      "item: 2500 ; in-sample error: 2.29040109487 ; out-sample error 2.52950726459\n",
      "item: 2600 ; in-sample error: 2.28887450885 ; out-sample error 2.52853409299\n",
      "item: 2700 ; in-sample error: 2.28765119574 ; out-sample error 2.52720095851\n",
      "item: 2800 ; in-sample error: 2.28626192176 ; out-sample error 2.52615899914\n",
      "item: 2900 ; in-sample error: 2.28472088464 ; out-sample error 2.52491022522\n",
      "item: 3000 ; in-sample error: 2.28218893885 ; out-sample error 2.52390881363\n",
      "item: 3100 ; in-sample error: 2.28108365373 ; out-sample error 2.5230039802\n",
      "item: 3200 ; in-sample error: 2.28013822207 ; out-sample error 2.5223634406\n",
      "item: 3300 ; in-sample error: 2.27925124919 ; out-sample error 2.52161270403\n",
      "item: 3400 ; in-sample error: 2.2784109457 ; out-sample error 2.52063522852\n",
      "item: 3500 ; in-sample error: 2.27758566735 ; out-sample error 2.52010845158\n",
      "item: 3600 ; in-sample error: 2.2755492308 ; out-sample error 2.51868340626\n",
      "item: 3700 ; in-sample error: 2.2741618745 ; out-sample error 2.51768306429\n",
      "item: 3800 ; in-sample error: 2.27222119941 ; out-sample error 2.51638067158\n",
      "item: 3900 ; in-sample error: 2.2712278401 ; out-sample error 2.51555715896\n",
      "item: 4000 ; in-sample error: 2.26938999888 ; out-sample error 2.51443248776\n",
      "item: 4100 ; in-sample error: 2.2678171738 ; out-sample error 2.51268933173\n",
      "item: 4200 ; in-sample error: 2.26647855293 ; out-sample error 2.51166879848\n",
      "item: 4300 ; in-sample error: 2.26493315059 ; out-sample error 2.51001248442\n",
      "item: 4400 ; in-sample error: 2.26364314883 ; out-sample error 2.50891729437\n",
      "item: 4500 ; in-sample error: 2.26263737665 ; out-sample error 2.50804547352\n",
      "item: 4600 ; in-sample error: 2.26133061582 ; out-sample error 2.50688532587\n",
      "item: 4700 ; in-sample error: 2.25991632772 ; out-sample error 2.50600219084\n",
      "item: 4800 ; in-sample error: 2.25873519977 ; out-sample error 2.50511682224\n",
      "item: 4900 ; in-sample error: 2.25787558422 ; out-sample error 2.50436333251\n",
      "item: 5000 ; in-sample error: 2.25601839086 ; out-sample error 2.50262426671\n",
      "item: 5100 ; in-sample error: 2.25250484802 ; out-sample error 2.49884139755\n",
      "item: 5200 ; in-sample error: 2.25079292018 ; out-sample error 2.49796371762\n",
      "item: 5300 ; in-sample error: 2.24974247752 ; out-sample error 2.49674471191\n",
      "item: 5400 ; in-sample error: 2.24886898634 ; out-sample error 2.49551418503\n",
      "item: 5500 ; in-sample error: 2.24763520143 ; out-sample error 2.49460379102\n",
      "item: 5600 ; in-sample error: 2.24695851288 ; out-sample error 2.49402474969\n",
      "item: 5700 ; in-sample error: 2.24603162411 ; out-sample error 2.49320628142\n",
      "item: 5800 ; in-sample error: 2.24489574303 ; out-sample error 2.49237615797\n",
      "item: 5900 ; in-sample error: 2.24392127275 ; out-sample error 2.49153414012\n",
      "item: 6000 ; in-sample error: 2.24207575293 ; out-sample error 2.49039482848\n",
      "item: 6100 ; in-sample error: 2.24046867438 ; out-sample error 2.48919075526\n",
      "item: 6200 ; in-sample error: 2.23796884432 ; out-sample error 2.48725954162\n",
      "item: 6300 ; in-sample error: 2.23659401814 ; out-sample error 2.48648606778\n",
      "item: 6400 ; in-sample error: 2.23435552523 ; out-sample error 2.48450090784\n",
      "item: 6500 ; in-sample error: 2.23299166626 ; out-sample error 2.4832981808\n",
      "item: 6600 ; in-sample error: 2.23164048222 ; out-sample error 2.48228219727\n",
      "item: 6700 ; in-sample error: 2.23012698587 ; out-sample error 2.48077471258\n",
      "item: 6800 ; in-sample error: 2.2289743556 ; out-sample error 2.47967701336\n",
      "item: 6900 ; in-sample error: 2.2274173535 ; out-sample error 2.47842471153\n",
      "item: 7000 ; in-sample error: 2.22651437474 ; out-sample error 2.47778134563\n",
      "item: 7100 ; in-sample error: 2.22482694278 ; out-sample error 2.47641395865\n",
      "item: 7200 ; in-sample error: 2.22376057207 ; out-sample error 2.47568529847\n",
      "item: 7300 ; in-sample error: 2.22205356895 ; out-sample error 2.47354508216\n",
      "item: 7400 ; in-sample error: 2.22078474169 ; out-sample error 2.47263534054\n"
     ]
    }
   ],
   "source": [
    "for epoch in range(EPOCH):\n",
    "    lis_user = list(range(n_user))\n",
    "    lis_item = list(range(n_item))\n",
    "    random.shuffle(lis_user)\n",
    "    random.shuffle(lis_item)\n",
    "    count = 0\n",
    "    \n",
    "    for i in lis_user:\n",
    "        grad = gradient_user(i, alpha, lmd)\n",
    "        update_user(i, -1)\n",
    "        user_vecs[i] -= lr * grad\n",
    "        update_user(i, 1)\n",
    "        \n",
    "        if count % 100 == 99:\n",
    "            print(\"user:\", count+1, \"; in-sample error:\", cal_insample_acc(n_test), \"; out-sample error\", cal_acc(n_test))\n",
    "        count += 1\n",
    "    \n",
    "    count = 0\n",
    "    \n",
    "    for i in lis_item:\n",
    "        grad = gradient_item(i, alpha, lmd)\n",
    "        update_item(i, -1)\n",
    "        item_vecs[i] -= lr * grad\n",
    "        update_item(i, 1)\n",
    "        \n",
    "        if count % 100 == 99:\n",
    "            print(\"item:\", count+1, \"; in-sample error:\", cal_insample_acc(n_test), \"; out-sample error\", cal_acc(n_test))\n",
    "        count += 1\n",
    "    \n",
    "    loss_time = time.time()\n",
    "    # loss = 0\n",
    "    # loss = cal_loss()\n",
    "    # losses.append(loss)\n",
    "    cal_loss_time += time.time() - loss_time\n",
    "    \n",
    "    acc_time = time.time()\n",
    "    in_acc = cal_insample_acc(n_test)\n",
    "    out_acc = cal_acc(n_test)\n",
    "    in_accs.append(in_acc)\n",
    "    out_accs.append(out_acc)\n",
    "    cal_acc_time += time.time() - acc_time\n",
    "    \n",
    "    print(\"\\nepoch\", epoch, \": averge error(in):\", in_acc, \"; averge error(out):\", out_acc, \"\\n\")\n",
    "\n",
    "print(\"total training time:\", time.time()-start_train_time)\n",
    "print(\"cal loss time:\", cal_loss_time)\n",
    "print(\"cal accuracy time:\", cal_acc_time)"
   ]
  },
  {
   "cell_type": "markdown",
   "metadata": {},
   "source": [
    "### test performance (out-sample)"
   ]
  },
  {
   "cell_type": "code",
   "execution_count": null,
   "metadata": {},
   "outputs": [],
   "source": [
    "predict = []\n",
    "rates = []\n",
    "\n",
    "for i in range(n_test):\n",
    "    rates.append(1.0)\n",
    "    predict.append(dot(user_vecs[test[i][0]], item_vecs[test[i][1]]))"
   ]
  },
  {
   "cell_type": "code",
   "execution_count": null,
   "metadata": {},
   "outputs": [],
   "source": [
    "for i in range(30):\n",
    "    print(\"ans:\", rates[i], \"; predict:\", predict[i])"
   ]
  },
  {
   "cell_type": "code",
   "execution_count": null,
   "metadata": {},
   "outputs": [],
   "source": [
    "error = 0.0\n",
    "\n",
    "for i in range(n_test):\n",
    "    error += abs(rates[i] - predict[i])**2\n",
    "    \n",
    "print(\"averge error:\", error / n_test)"
   ]
  },
  {
   "cell_type": "code",
   "execution_count": null,
   "metadata": {},
   "outputs": [],
   "source": [
    "rating_list = [] # rating list for each user in training and updating data\n",
    "\n",
    "for _ in range(n_user):\n",
    "    rating_list.append([])\n",
    "\n",
    "for row in train:\n",
    "    rating_list[row[0]].append(row[1])"
   ]
  },
  {
   "cell_type": "code",
   "execution_count": null,
   "metadata": {},
   "outputs": [],
   "source": [
    "not_rating_list = [] # rating list for each user not rating yet\n",
    "\n",
    "for i in range(n_user):\n",
    "    not_rating_list.append([])\n",
    "    for j in range(n_item):\n",
    "        if j not in rating_list[i]:\n",
    "            not_rating_list[i].append(j)"
   ]
  },
  {
   "cell_type": "code",
   "execution_count": null,
   "metadata": {},
   "outputs": [],
   "source": [
    "def take_value(elem):\n",
    "    return elem[1]\n",
    "\n",
    "top_n = []\n",
    "\n",
    "for i in range(n_user):\n",
    "    tmp = []\n",
    "    for j in not_rating_list[i]:\n",
    "        tmp.append([item_dict_2[j], dot(user_vecs[i], item_vecs[j])])\n",
    "    tmp.sort(key = take_value)\n",
    "    top_n.append(tmp[:100])"
   ]
  },
  {
   "cell_type": "code",
   "execution_count": null,
   "metadata": {},
   "outputs": [],
   "source": [
    "with open(\"predict_offline.csv\", \"w\", newline = \"\") as f:\n",
    "    w = csv.writer(f)\n",
    "    \n",
    "    for i in range(n_user):\n",
    "        row = []\n",
    "        row.append(user_dict_2[i])\n",
    "        for item in top_n[i]:\n",
    "            row.append(item[0])\n",
    "        w.writerow(row)"
   ]
  },
  {
   "cell_type": "markdown",
   "metadata": {},
   "source": [
    "### test performance (in-sample)"
   ]
  },
  {
   "cell_type": "code",
   "execution_count": 43,
   "metadata": {},
   "outputs": [],
   "source": [
    "predict = []\n",
    "rates = []\n",
    "\n",
    "for i in range(n_train):\n",
    "    rates.append(1.0)\n",
    "    predict.append(dot(user_vecs[train[i][0]], item_vecs[train[i][1]]))"
   ]
  },
  {
   "cell_type": "code",
   "execution_count": 44,
   "metadata": {},
   "outputs": [
    {
     "name": "stdout",
     "output_type": "stream",
     "text": [
      "ans: 1.0 ; predict: 0.5523556968748948\n",
      "ans: 1.0 ; predict: 0.749103464834057\n",
      "ans: 1.0 ; predict: 0.5649398089746898\n",
      "ans: 1.0 ; predict: 0.775303885527917\n",
      "ans: 1.0 ; predict: 0.34567286923268453\n",
      "ans: 1.0 ; predict: 0.30218174439522916\n",
      "ans: 1.0 ; predict: 0.38120942807761193\n",
      "ans: 1.0 ; predict: 0.21369758870033392\n",
      "ans: 1.0 ; predict: 0.4219488347352153\n",
      "ans: 1.0 ; predict: 0.7294240961456246\n",
      "ans: 1.0 ; predict: 0.42000137304405133\n",
      "ans: 1.0 ; predict: 0.5453750622201439\n",
      "ans: 1.0 ; predict: 0.4832363495896579\n",
      "ans: 1.0 ; predict: 0.5398958290415744\n",
      "ans: 1.0 ; predict: 0.6398563254804356\n",
      "ans: 1.0 ; predict: 0.3370545480941776\n",
      "ans: 1.0 ; predict: 0.7017265134612004\n",
      "ans: 1.0 ; predict: 0.6524525456189196\n",
      "ans: 1.0 ; predict: 0.6526618537152536\n",
      "ans: 1.0 ; predict: 0.4555582244692692\n",
      "ans: 1.0 ; predict: 0.583931460216683\n",
      "ans: 1.0 ; predict: 0.45311413546391627\n",
      "ans: 1.0 ; predict: 0.42726126844832596\n",
      "ans: 1.0 ; predict: 0.4064266406365496\n",
      "ans: 1.0 ; predict: 0.24745205171367918\n",
      "ans: 1.0 ; predict: 0.4933869984666583\n",
      "ans: 1.0 ; predict: 0.5819781364207919\n",
      "ans: 1.0 ; predict: 0.40883242845231643\n",
      "ans: 1.0 ; predict: 0.4039350029855763\n",
      "ans: 1.0 ; predict: 0.5077435672511417\n"
     ]
    }
   ],
   "source": [
    "for i in range(30):\n",
    "    print(\"ans:\", rates[i], \"; predict:\", predict[i])"
   ]
  },
  {
   "cell_type": "code",
   "execution_count": 45,
   "metadata": {},
   "outputs": [
    {
     "name": "stdout",
     "output_type": "stream",
     "text": [
      "averge error: 0.40141935283181496\n"
     ]
    }
   ],
   "source": [
    "error = 0.0\n",
    "\n",
    "for i in range(n_train):\n",
    "    error += abs(rates[i] - predict[i])**2\n",
    "    \n",
    "print(\"averge error:\", error / n_train)"
   ]
  },
  {
   "cell_type": "markdown",
   "metadata": {},
   "source": [
    "### plot"
   ]
  },
  {
   "cell_type": "code",
   "execution_count": 46,
   "metadata": {},
   "outputs": [],
   "source": [
    "import matplotlib.pyplot as plt"
   ]
  },
  {
   "cell_type": "code",
   "execution_count": null,
   "metadata": {},
   "outputs": [],
   "source": [
    "# plt.plot(losses)\n",
    "# plt.xlabel(\"epoch\")\n",
    "# plt.ylabel(\"loss\")\n",
    "# plt.show()"
   ]
  },
  {
   "cell_type": "code",
   "execution_count": 47,
   "metadata": {},
   "outputs": [
    {
     "data": {
      "image/png": "[encoded data removed]",
      "text/plain": [
       "<Figure size 432x288 with 1 Axes>"
      ]
     },
     "metadata": {
      "needs_background": "light"
     },
     "output_type": "display_data"
    }
   ],
   "source": [
    "plt.plot(in_accs)\n",
    "plt.plot(out_accs)\n",
    "plt.xlabel(\"epoch\")\n",
    "plt.ylabel(\"error\")\n",
    "plt.show()"
   ]
  }
 ],
 "metadata": {
  "kernelspec": {
   "display_name": "Python 3",
   "language": "python",
   "name": "python3"
  },
  "language_info": {
   "codemirror_mode": {
    "name": "ipython",
    "version": 3
   },
   "file_extension": ".py",
   "mimetype": "text/x-python",
   "name": "python",
   "nbconvert_exporter": "python",
   "pygments_lexer": "ipython3",
   "version": "3.5.2"
  }
 },
 "nbformat": 4,
 "nbformat_minor": 2
}
